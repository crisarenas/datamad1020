{
 "cells": [
  {
   "cell_type": "markdown",
   "metadata": {},
   "source": [
    "### Challenge 3: Hidden Cold Joke\n",
    "Using Python, call Github API to find out the cold joke contained in the 24 secret files in the following repo:\n",
    "\n",
    "https://github.com/ironhack-datalabs/scavenger\n",
    "\n",
    "The filenames of the secret files contain .scavengerhunt and they are scattered in different directories of this repo. The secret files are named from .0001.scavengerhunt to .0024.scavengerhunt. They are scattered randomly throughout this repo. You need to search for these files by calling the Github API, not searching the local files on your computer.\n",
    "\n",
    "After you find out the secrete files:\n",
    "\n",
    "1. Sort the filenames ascendingly.\n",
    "\n",
    "2. Read the content of each secret files into an array of strings.\n",
    "\n",
    "3. Concatenate the strings in the array separating each two with a whitespace.\n",
    "\n",
    "4. Print out the joke."
   ]
  },
  {
   "cell_type": "code",
   "execution_count": 1,
   "metadata": {},
   "outputs": [],
   "source": [
    "from dotenv import load_dotenv\n",
    "import os\n",
    "import re\n",
    "import pandas as pd\n",
    "import requests\n",
    "\n",
    "\n",
    "load_dotenv()\n",
    "gh_token = os.getenv(\"GITHUB_TOKEN\")\n",
    "\n",
    "url = \"https://api.github.com\"\n",
    "headers = {\"Authorization\": f\"token {gh_token}\"}"
   ]
  },
  {
   "cell_type": "code",
   "execution_count": 2,
   "metadata": {},
   "outputs": [],
   "source": [
    "endpoint=\"/repos/{owner}/{repo}/contents/\"\n",
    "repo_info = {\n",
    "    \"owner\" : \"ironhack-datalabs\",\n",
    "    \"repo\"  : \"scavenger\"\n",
    " \n",
    "            }\n",
    "parameters = {\"state\":\"all\"}\n"
   ]
  },
  {
   "cell_type": "code",
   "execution_count": 3,
   "metadata": {},
   "outputs": [],
   "source": [
    "data = requests.get(url+endpoint.format(**repo_info), \n",
    "                    headers=headers,\n",
    "                    params=parameters)"
   ]
  },
  {
   "cell_type": "code",
   "execution_count": 4,
   "metadata": {},
   "outputs": [
    {
     "data": {
      "text/plain": [
       "<Response [200]>"
      ]
     },
     "execution_count": 4,
     "metadata": {},
     "output_type": "execute_result"
    }
   ],
   "source": [
    "data"
   ]
  },
  {
   "cell_type": "code",
   "execution_count": 5,
   "metadata": {},
   "outputs": [],
   "source": [
    "data = data.json()"
   ]
  },
  {
   "cell_type": "markdown",
   "metadata": {},
   "source": [
    "Los 'name' en esto links son los que contienen el nombre del archivo de dentro"
   ]
  },
  {
   "cell_type": "code",
   "execution_count": 6,
   "metadata": {},
   "outputs": [
    {
     "data": {
      "text/plain": [
       "{'name': '.gitignore',\n",
       " 'path': '.gitignore',\n",
       " 'sha': 'e43b0f988953ae3a84b00331d0ccf5f7d51cb3cf',\n",
       " 'size': 10,\n",
       " 'url': 'https://api.github.com/repos/ironhack-datalabs/scavenger/contents/.gitignore?ref=master',\n",
       " 'html_url': 'https://github.com/ironhack-datalabs/scavenger/blob/master/.gitignore',\n",
       " 'git_url': 'https://api.github.com/repos/ironhack-datalabs/scavenger/git/blobs/e43b0f988953ae3a84b00331d0ccf5f7d51cb3cf',\n",
       " 'download_url': 'https://raw.githubusercontent.com/ironhack-datalabs/scavenger/master/.gitignore',\n",
       " 'type': 'file',\n",
       " '_links': {'self': 'https://api.github.com/repos/ironhack-datalabs/scavenger/contents/.gitignore?ref=master',\n",
       "  'git': 'https://api.github.com/repos/ironhack-datalabs/scavenger/git/blobs/e43b0f988953ae3a84b00331d0ccf5f7d51cb3cf',\n",
       "  'html': 'https://github.com/ironhack-datalabs/scavenger/blob/master/.gitignore'}}"
      ]
     },
     "execution_count": 6,
     "metadata": {},
     "output_type": "execute_result"
    }
   ],
   "source": [
    "data[0]"
   ]
  },
  {
   "cell_type": "markdown",
   "metadata": {},
   "source": [
    " "
   ]
  },
  {
   "cell_type": "markdown",
   "metadata": {},
   "source": [
    " "
   ]
  },
  {
   "cell_type": "markdown",
   "metadata": {},
   "source": [
    " "
   ]
  },
  {
   "cell_type": "markdown",
   "metadata": {},
   "source": [
    "### urls que contienen lo que hay dentro de cada carpeta del repo, el mensaje secreto está en download_url"
   ]
  },
  {
   "cell_type": "code",
   "execution_count": 7,
   "metadata": {},
   "outputs": [
    {
     "data": {
      "text/plain": [
       "['https://api.github.com/repos/ironhack-datalabs/scavenger/contents/15024?ref=master',\n",
       " 'https://api.github.com/repos/ironhack-datalabs/scavenger/contents/15534?ref=master',\n",
       " 'https://api.github.com/repos/ironhack-datalabs/scavenger/contents/17020?ref=master',\n",
       " 'https://api.github.com/repos/ironhack-datalabs/scavenger/contents/30351?ref=master',\n",
       " 'https://api.github.com/repos/ironhack-datalabs/scavenger/contents/40303?ref=master',\n",
       " 'https://api.github.com/repos/ironhack-datalabs/scavenger/contents/44639?ref=master',\n",
       " 'https://api.github.com/repos/ironhack-datalabs/scavenger/contents/45525?ref=master',\n",
       " 'https://api.github.com/repos/ironhack-datalabs/scavenger/contents/47222?ref=master',\n",
       " 'https://api.github.com/repos/ironhack-datalabs/scavenger/contents/47830?ref=master',\n",
       " 'https://api.github.com/repos/ironhack-datalabs/scavenger/contents/49418?ref=master',\n",
       " 'https://api.github.com/repos/ironhack-datalabs/scavenger/contents/50896?ref=master',\n",
       " 'https://api.github.com/repos/ironhack-datalabs/scavenger/contents/55417?ref=master',\n",
       " 'https://api.github.com/repos/ironhack-datalabs/scavenger/contents/55685?ref=master',\n",
       " 'https://api.github.com/repos/ironhack-datalabs/scavenger/contents/60224?ref=master',\n",
       " 'https://api.github.com/repos/ironhack-datalabs/scavenger/contents/64880?ref=master',\n",
       " 'https://api.github.com/repos/ironhack-datalabs/scavenger/contents/66032?ref=master',\n",
       " 'https://api.github.com/repos/ironhack-datalabs/scavenger/contents/68848?ref=master',\n",
       " 'https://api.github.com/repos/ironhack-datalabs/scavenger/contents/70751?ref=master',\n",
       " 'https://api.github.com/repos/ironhack-datalabs/scavenger/contents/70985?ref=master',\n",
       " 'https://api.github.com/repos/ironhack-datalabs/scavenger/contents/88596?ref=master',\n",
       " 'https://api.github.com/repos/ironhack-datalabs/scavenger/contents/89046?ref=master',\n",
       " 'https://api.github.com/repos/ironhack-datalabs/scavenger/contents/89338?ref=master',\n",
       " 'https://api.github.com/repos/ironhack-datalabs/scavenger/contents/91701?ref=master',\n",
       " 'https://api.github.com/repos/ironhack-datalabs/scavenger/contents/97881?ref=master',\n",
       " 'https://api.github.com/repos/ironhack-datalabs/scavenger/contents/98750?ref=master']"
      ]
     },
     "execution_count": 7,
     "metadata": {},
     "output_type": "execute_result"
    }
   ],
   "source": [
    "urls = [data[i]['url'] for i in range(len(data))]\n",
    "urls.pop(0) #el 0 era el gitignore\n",
    "urls"
   ]
  },
  {
   "cell_type": "markdown",
   "metadata": {},
   "source": [
    "### Lo que quiero hacer ahora es acceder al contenido de esos urls y abrirlo"
   ]
  },
  {
   "cell_type": "code",
   "execution_count": 8,
   "metadata": {},
   "outputs": [
    {
     "data": {
      "text/plain": [
       "['https://raw.githubusercontent.com/ironhack-datalabs/scavenger/master/15024/.0006.scavengerhunt',\n",
       " 'https://raw.githubusercontent.com/ironhack-datalabs/scavenger/master/15534/.0008.scavengerhunt',\n",
       " 'https://raw.githubusercontent.com/ironhack-datalabs/scavenger/master/15534/.0012.scavengerhunt',\n",
       " 'https://raw.githubusercontent.com/ironhack-datalabs/scavenger/master/17020/.0007.scavengerhunt',\n",
       " 'https://raw.githubusercontent.com/ironhack-datalabs/scavenger/master/30351/.0021.scavengerhunt',\n",
       " 'https://raw.githubusercontent.com/ironhack-datalabs/scavenger/master/40303/.0022.scavengerhunt',\n",
       " 'https://raw.githubusercontent.com/ironhack-datalabs/scavenger/master/44639/.0005.scavengerhunt',\n",
       " 'https://raw.githubusercontent.com/ironhack-datalabs/scavenger/master/45525/.0018.scavengerhunt',\n",
       " 'https://raw.githubusercontent.com/ironhack-datalabs/scavenger/master/47222/.0016.scavengerhunt',\n",
       " 'https://raw.githubusercontent.com/ironhack-datalabs/scavenger/master/47222/.0024.scavengerhunt',\n",
       " 'https://raw.githubusercontent.com/ironhack-datalabs/scavenger/master/47830/.0010.scavengerhunt',\n",
       " 'https://raw.githubusercontent.com/ironhack-datalabs/scavenger/master/49418/.0014.scavengerhunt',\n",
       " 'https://raw.githubusercontent.com/ironhack-datalabs/scavenger/master/50896/.0011.scavengerhunt',\n",
       " 'https://raw.githubusercontent.com/ironhack-datalabs/scavenger/master/55417/.0023.scavengerhunt',\n",
       " 'https://raw.githubusercontent.com/ironhack-datalabs/scavenger/master/55685/.0020.scavengerhunt',\n",
       " 'https://raw.githubusercontent.com/ironhack-datalabs/scavenger/master/60224/.0003.scavengerhunt',\n",
       " 'https://raw.githubusercontent.com/ironhack-datalabs/scavenger/master/68848/.0004.scavengerhunt',\n",
       " 'https://raw.githubusercontent.com/ironhack-datalabs/scavenger/master/70751/.0019.scavengerhunt',\n",
       " 'https://raw.githubusercontent.com/ironhack-datalabs/scavenger/master/70985/.0017.scavengerhunt',\n",
       " 'https://raw.githubusercontent.com/ironhack-datalabs/scavenger/master/88596/.0002.scavengerhunt',\n",
       " 'https://raw.githubusercontent.com/ironhack-datalabs/scavenger/master/89338/.0013.scavengerhunt',\n",
       " 'https://raw.githubusercontent.com/ironhack-datalabs/scavenger/master/91701/.0015.scavengerhunt',\n",
       " 'https://raw.githubusercontent.com/ironhack-datalabs/scavenger/master/97881/.0009.scavengerhunt',\n",
       " 'https://raw.githubusercontent.com/ironhack-datalabs/scavenger/master/98750/.0001.scavengerhunt']"
      ]
     },
     "execution_count": 8,
     "metadata": {},
     "output_type": "execute_result"
    }
   ],
   "source": [
    "files = []\n",
    "for url in urls:\n",
    "    data = requests.get(url, headers=headers).json()\n",
    "    for i in range(len(data)):\n",
    "        if '.scavengerhunt' in data[i]['download_url']:\n",
    "            files.append(data[i]['download_url'])\n",
    "files"
   ]
  },
  {
   "cell_type": "markdown",
   "metadata": {},
   "source": [
    "### Ahora hay que ordenar esto archivitos y sacar su mensaje"
   ]
  },
  {
   "cell_type": "code",
   "execution_count": 27,
   "metadata": {},
   "outputs": [
    {
     "data": {
      "text/plain": [
       "['https://raw.githubusercontent.com/ironhack-datalabs/scavenger/master/98750/.0001.scavengerhunt',\n",
       " 'https://raw.githubusercontent.com/ironhack-datalabs/scavenger/master/88596/.0002.scavengerhunt',\n",
       " 'https://raw.githubusercontent.com/ironhack-datalabs/scavenger/master/60224/.0003.scavengerhunt',\n",
       " 'https://raw.githubusercontent.com/ironhack-datalabs/scavenger/master/68848/.0004.scavengerhunt',\n",
       " 'https://raw.githubusercontent.com/ironhack-datalabs/scavenger/master/44639/.0005.scavengerhunt',\n",
       " 'https://raw.githubusercontent.com/ironhack-datalabs/scavenger/master/15024/.0006.scavengerhunt',\n",
       " 'https://raw.githubusercontent.com/ironhack-datalabs/scavenger/master/17020/.0007.scavengerhunt',\n",
       " 'https://raw.githubusercontent.com/ironhack-datalabs/scavenger/master/15534/.0008.scavengerhunt',\n",
       " 'https://raw.githubusercontent.com/ironhack-datalabs/scavenger/master/97881/.0009.scavengerhunt',\n",
       " 'https://raw.githubusercontent.com/ironhack-datalabs/scavenger/master/47830/.0010.scavengerhunt',\n",
       " 'https://raw.githubusercontent.com/ironhack-datalabs/scavenger/master/50896/.0011.scavengerhunt',\n",
       " 'https://raw.githubusercontent.com/ironhack-datalabs/scavenger/master/15534/.0012.scavengerhunt',\n",
       " 'https://raw.githubusercontent.com/ironhack-datalabs/scavenger/master/89338/.0013.scavengerhunt',\n",
       " 'https://raw.githubusercontent.com/ironhack-datalabs/scavenger/master/49418/.0014.scavengerhunt',\n",
       " 'https://raw.githubusercontent.com/ironhack-datalabs/scavenger/master/91701/.0015.scavengerhunt',\n",
       " 'https://raw.githubusercontent.com/ironhack-datalabs/scavenger/master/47222/.0016.scavengerhunt',\n",
       " 'https://raw.githubusercontent.com/ironhack-datalabs/scavenger/master/70985/.0017.scavengerhunt',\n",
       " 'https://raw.githubusercontent.com/ironhack-datalabs/scavenger/master/45525/.0018.scavengerhunt',\n",
       " 'https://raw.githubusercontent.com/ironhack-datalabs/scavenger/master/70751/.0019.scavengerhunt',\n",
       " 'https://raw.githubusercontent.com/ironhack-datalabs/scavenger/master/55685/.0020.scavengerhunt',\n",
       " 'https://raw.githubusercontent.com/ironhack-datalabs/scavenger/master/30351/.0021.scavengerhunt',\n",
       " 'https://raw.githubusercontent.com/ironhack-datalabs/scavenger/master/40303/.0022.scavengerhunt',\n",
       " 'https://raw.githubusercontent.com/ironhack-datalabs/scavenger/master/55417/.0023.scavengerhunt',\n",
       " 'https://raw.githubusercontent.com/ironhack-datalabs/scavenger/master/47222/.0024.scavengerhunt']"
      ]
     },
     "execution_count": 27,
     "metadata": {},
     "output_type": "execute_result"
    }
   ],
   "source": [
    "files.sort(key = lambda x: x.split('/.')[1])\n",
    "files"
   ]
  },
  {
   "cell_type": "code",
   "execution_count": 31,
   "metadata": {},
   "outputs": [
    {
     "name": "stdout",
     "output_type": "stream",
     "text": [
      "In\n",
      "\n",
      "data\n",
      "\n",
      "science,\n",
      "\n",
      "80\n",
      "\n",
      "percent\n",
      "\n",
      "of\n",
      "\n",
      "time\n",
      "\n",
      "spent\n",
      "\n",
      "is\n",
      "\n",
      "preparing\n",
      "\n",
      "data,\n",
      "\n",
      "20\n",
      "\n",
      "percent\n",
      "\n",
      "of\n",
      "\n",
      "time\n",
      "\n",
      "is\n",
      "\n",
      "spent\n",
      "\n",
      "complaining\n",
      "\n",
      "about\n",
      "\n",
      "the\n",
      "\n",
      "need\n",
      "\n",
      "to\n",
      "\n",
      "prepare\n",
      "\n",
      "data.\n",
      "\n"
     ]
    }
   ],
   "source": [
    "message = []\n",
    "for url in files:\n",
    "    print(requests.get(url, headers=headers).text)"
   ]
  },
  {
   "cell_type": "code",
   "execution_count": null,
   "metadata": {},
   "outputs": [],
   "source": []
  }
 ],
 "metadata": {
  "kernelspec": {
   "display_name": "Python 3",
   "language": "python",
   "name": "python3"
  },
  "language_info": {
   "codemirror_mode": {
    "name": "ipython",
    "version": 3
   },
   "file_extension": ".py",
   "mimetype": "text/x-python",
   "name": "python",
   "nbconvert_exporter": "python",
   "pygments_lexer": "ipython3",
   "version": "3.8.6"
  }
 },
 "nbformat": 4,
 "nbformat_minor": 4
}
