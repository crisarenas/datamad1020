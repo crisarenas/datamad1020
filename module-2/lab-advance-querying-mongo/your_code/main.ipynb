{
 "cells": [
  {
   "cell_type": "markdown",
   "metadata": {},
   "source": [
    "# Advanced Querying Mongo"
   ]
  },
  {
   "cell_type": "markdown",
   "metadata": {},
   "source": [
    "Importing libraries and setting up connection"
   ]
  },
  {
   "cell_type": "code",
   "execution_count": 4,
   "metadata": {},
   "outputs": [
    {
     "data": {
      "text/plain": [
       "Database(MongoClient(host=['localhost:27017'], document_class=dict, tz_aware=False, connect=True), 'companies')"
      ]
     },
     "execution_count": 4,
     "metadata": {},
     "output_type": "execute_result"
    }
   ],
   "source": [
    "from pymongo import MongoClient\n",
    "client = MongoClient()\n",
    "db = client.get_database(\"companies\")\n",
    "db"
   ]
  },
  {
   "cell_type": "markdown",
   "metadata": {},
   "source": [
    "### 1. All the companies whose name match 'Babelgum'. Retrieve only their `name` field."
   ]
  },
  {
   "cell_type": "code",
   "execution_count": 17,
   "metadata": {},
   "outputs": [
    {
     "name": "stdout",
     "output_type": "stream",
     "text": [
      "Number of matches = 1\n"
     ]
    },
    {
     "data": {
      "text/plain": [
       "'Babelgum'"
      ]
     },
     "execution_count": 17,
     "metadata": {},
     "output_type": "execute_result"
    }
   ],
   "source": [
    "# Your Code\n",
    "babelgum = list(db.companies.find({\"name\":\"Babelgum\"}))\n",
    "print(f\"Number of matches = {len(babelgum)}\")\n",
    "babelgum[0]['name']\n"
   ]
  },
  {
   "cell_type": "markdown",
   "metadata": {},
   "source": [
    "### 2. All the companies that have more than 5000 employees. Limit the search to 20 companies and sort them by **number of employees**."
   ]
  },
  {
   "cell_type": "code",
   "execution_count": 38,
   "metadata": {},
   "outputs": [
    {
     "data": {
      "text/plain": [
       "['Nintendo',\n",
       " 'Hexaware Technologies',\n",
       " 'Facebook',\n",
       " 'OpenText',\n",
       " 'CPM Braxis',\n",
       " 'LSI',\n",
       " 'Microchip Technologies',\n",
       " 'Mediaset',\n",
       " 'Mindray Medical International',\n",
       " 'Dentsu',\n",
       " 'Atmel',\n",
       " 'Tata Communications',\n",
       " 'Baidu',\n",
       " 'Acxiom',\n",
       " 'Acxiom',\n",
       " 'SRA International',\n",
       " \"Moody's\",\n",
       " 'ManTech',\n",
       " 'Adobe Systems',\n",
       " 'Broadcom']"
      ]
     },
     "execution_count": 38,
     "metadata": {},
     "output_type": "execute_result"
    }
   ],
   "source": [
    "# Your Code\n",
    "filter_q = {\"number_of_employees\":{\"$gt\":5000}  }   \n",
    "sort_q =   [(\"number_of_employees\",1)]\n",
    "\n",
    "\n",
    "em = list(db.companies.find(filter_q).sort(sort_q).limit(20))\n",
    "\n",
    "# 20 primeras empresas con más de 5000 empleados ordenadas\n",
    "[em[i]['name'] for i in range(len(em))]"
   ]
  },
  {
   "cell_type": "markdown",
   "metadata": {},
   "source": [
    "### 3. All the companies founded between 2000 and 2005, both years included. Retrieve only the `name` and `founded_year` fields."
   ]
  },
  {
   "cell_type": "code",
   "execution_count": 40,
   "metadata": {},
   "outputs": [
    {
     "name": "stdout",
     "output_type": "stream",
     "text": [
      "3734\n"
     ]
    },
    {
     "data": {
      "text/plain": [
       "[{'_id': ObjectId('52cdef7c4bab8bd675297d8a'),\n",
       "  'name': 'Wetpaint',\n",
       "  'founded_year': 2005},\n",
       " {'_id': ObjectId('52cdef7c4bab8bd675297d8c'),\n",
       "  'name': 'Zoho',\n",
       "  'founded_year': 2005},\n",
       " {'_id': ObjectId('52cdef7c4bab8bd675297d8d'),\n",
       "  'name': 'Digg',\n",
       "  'founded_year': 2004},\n",
       " {'_id': ObjectId('52cdef7c4bab8bd675297d8e'),\n",
       "  'name': 'Facebook',\n",
       "  'founded_year': 2004},\n",
       " {'_id': ObjectId('52cdef7c4bab8bd675297d8f'),\n",
       "  'name': 'Omnidrive',\n",
       "  'founded_year': 2005},\n",
       " {'_id': ObjectId('52cdef7c4bab8bd675297d95'),\n",
       "  'name': 'StumbleUpon',\n",
       "  'founded_year': 2002},\n",
       " {'_id': ObjectId('52cdef7c4bab8bd675297d96'),\n",
       "  'name': 'Gizmoz',\n",
       "  'founded_year': 2003},\n",
       " {'_id': ObjectId('52cdef7c4bab8bd675297d9a'),\n",
       "  'name': 'Helio',\n",
       "  'founded_year': 2005},\n",
       " {'_id': ObjectId('52cdef7c4bab8bd675297da1'),\n",
       "  'name': 'Plaxo',\n",
       "  'founded_year': 2002},\n",
       " {'_id': ObjectId('52cdef7c4bab8bd675297da5'),\n",
       "  'name': 'Technorati',\n",
       "  'founded_year': 2002}]"
      ]
     },
     "execution_count": 40,
     "metadata": {},
     "output_type": "execute_result"
    }
   ],
   "source": [
    "filter_q = {\"founded_year\":{\"$gte\":2000, \"$lte\":2005}  \n",
    "           }   \n",
    "\n",
    "project_q = {\"name\":1,\n",
    "             \"founded_year\" :1\n",
    "            }\n",
    "\n",
    "\n",
    "res = list(db.companies.find(filter_q,project_q))\n",
    "# el len coincide con compass\n",
    "print(len(res))\n",
    "# 10 primeras\n",
    "[res[i] for i in range(10)]"
   ]
  },
  {
   "cell_type": "markdown",
   "metadata": {},
   "source": [
    "### 4. All the companies that had a Valuation Amount of more than 100.000.000 and have been founded before 2010. Retrieve only the `name` and `ipo` fields."
   ]
  },
  {
   "cell_type": "code",
   "execution_count": 43,
   "metadata": {},
   "outputs": [
    {
     "name": "stdout",
     "output_type": "stream",
     "text": [
      "42\n"
     ]
    },
    {
     "data": {
      "text/plain": [
       "[{'_id': ObjectId('52cdef7c4bab8bd675297d8e'),\n",
       "  'name': 'Facebook',\n",
       "  'ipo': {'valuation_amount': 104000000000,\n",
       "   'valuation_currency_code': 'USD',\n",
       "   'pub_year': 2012,\n",
       "   'pub_month': 5,\n",
       "   'pub_day': 18,\n",
       "   'stock_symbol': 'NASDAQ:FB'}},\n",
       " {'_id': ObjectId('52cdef7c4bab8bd675297d94'),\n",
       "  'name': 'Twitter',\n",
       "  'ipo': {'valuation_amount': 18100000000,\n",
       "   'valuation_currency_code': 'USD',\n",
       "   'pub_year': 2013,\n",
       "   'pub_month': 11,\n",
       "   'pub_day': 7,\n",
       "   'stock_symbol': 'NYSE:TWTR'}},\n",
       " {'_id': ObjectId('52cdef7c4bab8bd675297de0'),\n",
       "  'name': 'Yelp',\n",
       "  'ipo': {'valuation_amount': 1300000000,\n",
       "   'valuation_currency_code': 'USD',\n",
       "   'pub_year': 2012,\n",
       "   'pub_month': 3,\n",
       "   'pub_day': 2,\n",
       "   'stock_symbol': 'NYSE:YELP'}}]"
      ]
     },
     "execution_count": 43,
     "metadata": {},
     "output_type": "execute_result"
    }
   ],
   "source": [
    "filter_q = { \"ipo.valuation_amount\":{\"$gt\":100000000}, \"founded_year\": {\"$lt\":2010}   } \n",
    "\n",
    "project_q = {\"name\":1, \"ipo\":1}\n",
    "\n",
    "\n",
    "res = list(db.companies.find(filter_q,project_q))\n",
    "\n",
    "# el len coincide con compass\n",
    "print(len(res))\n",
    "\n",
    "# 3 primeras\n",
    "[res[i] for i in range(3)]"
   ]
  },
  {
   "cell_type": "markdown",
   "metadata": {},
   "source": [
    "### 5. All the companies that have less than 1000 employees and have been founded before 2005. Order them by the number of employees and limit the search to 10 companies."
   ]
  },
  {
   "cell_type": "code",
   "execution_count": 56,
   "metadata": {},
   "outputs": [
    {
     "name": "stdout",
     "output_type": "stream",
     "text": [
      "10\n"
     ]
    },
    {
     "data": {
      "text/plain": [
       "['Skype',\n",
       " 'Simpy',\n",
       " 'Eurekster',\n",
       " 'Ticketmaster',\n",
       " 'Fox Interactive Media',\n",
       " 'stylediary',\n",
       " 'Monster',\n",
       " 'EditGrid',\n",
       " 'Compete',\n",
       " 'MindTouch']"
      ]
     },
     "execution_count": 56,
     "metadata": {},
     "output_type": "execute_result"
    }
   ],
   "source": [
    "filter_q = { \"number_of_employees\":{\"$lt\":1000}, \"founded_year\": {\"$lt\":2005}   } \n",
    "\n",
    "\n",
    "\n",
    "sort_q =   [(\"number_of_employees\",1)]\n",
    "\n",
    "res = list(db.companies.find(filter_q).sort(sort_q).limit(10))\n",
    "\n",
    "# el len coincide con compass\n",
    "print(len(res))\n",
    "\n",
    "# Te imprimo los nombres de las empresas para que no te aparezca el tochaco infernal\n",
    "[res[i]['name'] for i in range(10)]\n",
    "#res[0]"
   ]
  },
  {
   "cell_type": "markdown",
   "metadata": {},
   "source": [
    "### 6. All the companies that don't include the `partners` field."
   ]
  },
  {
   "cell_type": "code",
   "execution_count": 63,
   "metadata": {},
   "outputs": [
    {
     "name": "stdout",
     "output_type": "stream",
     "text": [
      "0\n"
     ]
    }
   ],
   "source": [
    "filter_q = { \"partners\": { \"$exists\": False} } \n",
    "\n",
    "\n",
    "\n",
    "res = list(db.companies.find(filter_q))\n",
    "\n",
    "# el len coincide con compass\n",
    "print(len(res))\n",
    "\n",
    "# Existe en todas"
   ]
  },
  {
   "cell_type": "markdown",
   "metadata": {},
   "source": [
    "### 7. All the companies that have a null type of value on the `category_code` field."
   ]
  },
  {
   "cell_type": "code",
   "execution_count": 67,
   "metadata": {},
   "outputs": [
    {
     "name": "stdout",
     "output_type": "stream",
     "text": [
      "2751\n"
     ]
    },
    {
     "data": {
      "text/plain": [
       "['Collective',\n",
       " 'Snimmer',\n",
       " 'KoolIM',\n",
       " 'Level9 Media',\n",
       " 'VidKing',\n",
       " 'Drigg',\n",
       " 'SpaceTime',\n",
       " 'Touch Clarity',\n",
       " 'MMDAYS',\n",
       " 'Inside Group']"
      ]
     },
     "execution_count": 67,
     "metadata": {},
     "output_type": "execute_result"
    }
   ],
   "source": [
    "filter_q = { \"category_code\": { \"$type\": 'null'} } \n",
    "\n",
    "\n",
    "\n",
    "res = list(db.companies.find(filter_q))\n",
    "\n",
    "# el len coincide con compass\n",
    "print(len(res))\n",
    "\n",
    "# 10 primeras\n",
    "[res[i]['name'] for i in range(10)]\n",
    "#res[0]"
   ]
  },
  {
   "cell_type": "markdown",
   "metadata": {},
   "source": [
    "### 8. All the companies that have at least 100 employees but less than 1000. Retrieve only the `name` and `number of employees` fields."
   ]
  },
  {
   "cell_type": "code",
   "execution_count": 69,
   "metadata": {},
   "outputs": [
    {
     "name": "stdout",
     "output_type": "stream",
     "text": [
      "917\n"
     ]
    },
    {
     "data": {
      "text/plain": [
       "[{'_id': ObjectId('52cdef7c4bab8bd675297d8b'),\n",
       "  'name': 'AdventNet',\n",
       "  'number_of_employees': 600},\n",
       " {'_id': ObjectId('52cdef7c4bab8bd675297da7'),\n",
       "  'name': 'AddThis',\n",
       "  'number_of_employees': 120},\n",
       " {'_id': ObjectId('52cdef7c4bab8bd675297da8'),\n",
       "  'name': 'OpenX',\n",
       "  'number_of_employees': 305},\n",
       " {'_id': ObjectId('52cdef7c4bab8bd675297db5'),\n",
       "  'name': 'LifeLock',\n",
       "  'number_of_employees': 644},\n",
       " {'_id': ObjectId('52cdef7c4bab8bd675297dbb'),\n",
       "  'name': 'Jajah',\n",
       "  'number_of_employees': 110},\n",
       " {'_id': ObjectId('52cdef7c4bab8bd675297dc0'),\n",
       "  'name': 'Livestream',\n",
       "  'number_of_employees': 120},\n",
       " {'_id': ObjectId('52cdef7c4bab8bd675297dc1'),\n",
       "  'name': 'Ustream',\n",
       "  'number_of_employees': 250},\n",
       " {'_id': ObjectId('52cdef7c4bab8bd675297dda'),\n",
       "  'name': 'iContact',\n",
       "  'number_of_employees': 300},\n",
       " {'_id': ObjectId('52cdef7c4bab8bd675297de0'),\n",
       "  'name': 'Yelp',\n",
       "  'number_of_employees': 800},\n",
       " {'_id': ObjectId('52cdef7c4bab8bd675297dee'),\n",
       "  'name': 'Dailymotion',\n",
       "  'number_of_employees': 120}]"
      ]
     },
     "execution_count": 69,
     "metadata": {},
     "output_type": "execute_result"
    }
   ],
   "source": [
    "filter_q = {\"number_of_employees\":{\"$gte\":100, \"$lt\":1000}  \n",
    "           }   \n",
    "\n",
    "project_q = {\"name\":1,\n",
    "             \"number_of_employees\" :1\n",
    "            }\n",
    "\n",
    "\n",
    "res = list(db.companies.find(filter_q,project_q))\n",
    "\n",
    "print(len(res))\n",
    "# 10 primeras\n",
    "[res[i] for i in range(10)]"
   ]
  },
  {
   "cell_type": "markdown",
   "metadata": {},
   "source": [
    "### 9. Order all the companies by their IPO price in a descending order."
   ]
  },
  {
   "cell_type": "code",
   "execution_count": 70,
   "metadata": {},
   "outputs": [
    {
     "name": "stdout",
     "output_type": "stream",
     "text": [
      "18801\n"
     ]
    },
    {
     "data": {
      "text/plain": [
       "['GREE',\n",
       " 'Facebook',\n",
       " 'Amazon',\n",
       " 'Twitter',\n",
       " 'Groupon',\n",
       " 'Tencent',\n",
       " 'Western Digital',\n",
       " 'LinkedIn',\n",
       " 'BMC Software',\n",
       " 'Rackspace']"
      ]
     },
     "execution_count": 70,
     "metadata": {},
     "output_type": "execute_result"
    }
   ],
   "source": [
    "filter_q = {} \n",
    "\n",
    "sort_q =   [(\"ipo\",-1)]\n",
    "\n",
    "res = list(db.companies.find(filter_q).sort(sort_q))\n",
    "\n",
    "# el len coincide con compass\n",
    "print(len(res))\n",
    "\n",
    "# Te imprimo las 10 primeras\n",
    "[res[i]['name'] for i in range(10)]\n",
    "#res[0]"
   ]
  },
  {
   "cell_type": "markdown",
   "metadata": {},
   "source": [
    "### 10. Retrieve the 10 companies with more employees, order by the `number of employees`"
   ]
  },
  {
   "cell_type": "code",
   "execution_count": 81,
   "metadata": {},
   "outputs": [
    {
     "name": "stdout",
     "output_type": "stream",
     "text": [
      "18801\n"
     ]
    },
    {
     "data": {
      "text/plain": [
       "['Siemens',\n",
       " 'IBM',\n",
       " 'Toyota',\n",
       " 'PayPal',\n",
       " 'Nippon Telegraph and Telephone Corporation',\n",
       " 'Samsung Electronics',\n",
       " 'Accenture',\n",
       " 'Tata Consultancy Services',\n",
       " 'Flextronics International',\n",
       " 'Safeway']"
      ]
     },
     "execution_count": 81,
     "metadata": {},
     "output_type": "execute_result"
    }
   ],
   "source": [
    "filter_q = {} \n",
    "\n",
    "\n",
    "sort_q =   [(\"number_of_employees\",-1)]\n",
    "\n",
    "\n",
    "res = list(db.companies.find(filter_q).sort(sort_q))\n",
    "\n",
    "# el len coincide con compass\n",
    "print(len(res))\n",
    "\n",
    "\n",
    "companies = [res[i]['name'] for i in range(10)]\n",
    "companies"
   ]
  },
  {
   "cell_type": "markdown",
   "metadata": {},
   "source": [
    "### 11. All the companies founded on the second semester of the year. Limit your search to 1000 companies."
   ]
  },
  {
   "cell_type": "code",
   "execution_count": 87,
   "metadata": {},
   "outputs": [
    {
     "name": "stdout",
     "output_type": "stream",
     "text": [
      "1000\n"
     ]
    },
    {
     "data": {
      "text/plain": [
       "['Wetpaint',\n",
       " 'Zoho',\n",
       " 'Digg',\n",
       " 'Omnidrive',\n",
       " 'eBay',\n",
       " 'Joost',\n",
       " 'Plaxo',\n",
       " 'Powerset',\n",
       " 'Kyte',\n",
       " 'Thoof']"
      ]
     },
     "execution_count": 87,
     "metadata": {},
     "output_type": "execute_result"
    }
   ],
   "source": [
    "# Second semester: de julio a diciembre\n",
    "filter_q = {\"founded_month\":{\"$gte\":7}  } \n",
    "\n",
    "\n",
    "res = list(db.companies.find(filter_q).limit(1000))\n",
    "\n",
    "# el len coincide con compass\n",
    "print(len(res))\n",
    "\n",
    "# Te imprimo las 10 primeras\n",
    "companies = [res[i]['name'] for i in range(10)]\n",
    "companies\n",
    "#res[0]"
   ]
  },
  {
   "cell_type": "markdown",
   "metadata": {},
   "source": [
    "### 12. All the companies founded before 2000 that have an acquisition amount of more than 10.000.00"
   ]
  },
  {
   "cell_type": "code",
   "execution_count": 88,
   "metadata": {},
   "outputs": [
    {
     "name": "stdout",
     "output_type": "stream",
     "text": [
      "205\n"
     ]
    },
    {
     "data": {
      "text/plain": [
       "['Postini',\n",
       " 'SideStep',\n",
       " 'Recipezaar',\n",
       " 'PayPal',\n",
       " 'Snapfish',\n",
       " 'Neopets',\n",
       " 'Sun Microsystems',\n",
       " 'Zappos',\n",
       " 'Alibaba',\n",
       " 'Sabre']"
      ]
     },
     "execution_count": 88,
     "metadata": {},
     "output_type": "execute_result"
    }
   ],
   "source": [
    "filter_q = { \"founded_year\":{\"$lt\":2000}, \"acquisition.price_amount\": {\"$gt\":10000000}   } \n",
    "\n",
    "\n",
    "res = list(db.companies.find(filter_q))\n",
    "\n",
    "# el len coincide con compass\n",
    "print(len(res))\n",
    "\n",
    "# 10 primeras\n",
    "companies = [res[i]['name'] for i in range(10)]\n",
    "companies\n",
    "#res[0]"
   ]
  },
  {
   "cell_type": "markdown",
   "metadata": {},
   "source": [
    "### 13. All the companies that have been acquired after 2010, order by the acquisition amount, and retrieve only their `name` and `acquisition` field."
   ]
  },
  {
   "cell_type": "code",
   "execution_count": 92,
   "metadata": {},
   "outputs": [
    {
     "name": "stdout",
     "output_type": "stream",
     "text": [
      "736\n"
     ]
    },
    {
     "data": {
      "text/plain": [
       "[{'_id': ObjectId('52cdef7c4bab8bd675297d91'),\n",
       "  'name': 'Geni',\n",
       "  'acquisition': {'price_amount': None,\n",
       "   'price_currency_code': 'USD',\n",
       "   'term_code': None,\n",
       "   'source_url': 'http://techcrunch.com/2012/11/28/all-in-the-family-myheritage-buys-former-yammer-stablemate-geni-com-raises-25m/',\n",
       "   'source_description': 'MyHeritage acquires Geni and $25M to build family tree of the whole world',\n",
       "   'acquired_year': 2012,\n",
       "   'acquired_month': 11,\n",
       "   'acquired_day': 28,\n",
       "   'acquiring_company': {'name': 'MyHeritage', 'permalink': 'myheritage'}}},\n",
       " {'_id': ObjectId('52cdef7c4bab8bd675297dab'),\n",
       "  'name': 'Kyte',\n",
       "  'acquisition': {'price_amount': None,\n",
       "   'price_currency_code': 'USD',\n",
       "   'term_code': None,\n",
       "   'source_url': 'http://techcrunch.com/2011/01/31/exclusive-kit-digital-acquires-kickapps-kewego-and-kyte-for-77-2-million/',\n",
       "   'source_description': 'KIT digital Acquires KickApps, Kewego AND Kyte For $77.2 Million',\n",
       "   'acquired_year': 2011,\n",
       "   'acquired_month': 1,\n",
       "   'acquired_day': 31,\n",
       "   'acquiring_company': {'name': 'KIT digital', 'permalink': 'kit-digital'}}},\n",
       " {'_id': ObjectId('52cdef7c4bab8bd675297dbf'),\n",
       "  'name': 'blogTV',\n",
       "  'acquisition': {'price_amount': None,\n",
       "   'price_currency_code': 'USD',\n",
       "   'term_code': None,\n",
       "   'source_url': 'http://techcrunch.com/2013/03/13/younow-buys-blogtv/',\n",
       "   'source_description': 'Live Social Video Network YouNow Acquires Streaming Service BlogTV',\n",
       "   'acquired_year': 2013,\n",
       "   'acquired_month': 3,\n",
       "   'acquired_day': 13,\n",
       "   'acquiring_company': {'name': 'YouNow', 'permalink': 'younow'}}}]"
      ]
     },
     "execution_count": 92,
     "metadata": {},
     "output_type": "execute_result"
    }
   ],
   "source": [
    "filter_q = { \"acquisition.acquired_year\":{\"$gt\":2010}} \n",
    "\n",
    "project_q = {\"name\":1, \"acquisition\":1} \n",
    "\n",
    "sort_q = [(\"acquisition.price_amount\",1)]\n",
    "\n",
    "res = list(db.companies.find(filter_q,project_q).sort(sort_q))\n",
    "\n",
    "\n",
    "# el len coincide con compass\n",
    "print(len(res))\n",
    "\n",
    "# 3 primeras\n",
    "companies = [res[i] for i in range(3)]\n",
    "companies\n",
    "#res[0]"
   ]
  },
  {
   "cell_type": "markdown",
   "metadata": {},
   "source": [
    "### 14. Order the companies by their `founded year`, retrieving only their `name` and `founded year`."
   ]
  },
  {
   "cell_type": "code",
   "execution_count": 97,
   "metadata": {},
   "outputs": [
    {
     "name": "stdout",
     "output_type": "stream",
     "text": [
      "18801\n"
     ]
    },
    {
     "data": {
      "text/plain": [
       "[{'_id': ObjectId('52cdef7c4bab8bd675297d92'),\n",
       "  'name': 'Flektor',\n",
       "  'founded_year': None},\n",
       " {'_id': ObjectId('52cdef7c4bab8bd675297d99'),\n",
       "  'name': 'Lala',\n",
       "  'founded_year': None},\n",
       " {'_id': ObjectId('52cdef7c4bab8bd675297da6'),\n",
       "  'name': 'SpinVox',\n",
       "  'founded_year': None},\n",
       " {'_id': ObjectId('52cdef7c4bab8bd675297dad'),\n",
       "  'name': 'Gannett',\n",
       "  'founded_year': None},\n",
       " {'_id': ObjectId('52cdef7c4bab8bd675297db0'),\n",
       "  'name': 'Info',\n",
       "  'founded_year': None}]"
      ]
     },
     "execution_count": 97,
     "metadata": {},
     "output_type": "execute_result"
    }
   ],
   "source": [
    "filter_q = {} \n",
    "project_q = {\"name\":1, \"founded_year\":1} \n",
    "\n",
    "sort_q = [(\"founded_year\",1)]\n",
    "\n",
    "res = list(db.companies.find(filter_q,project_q).sort(sort_q))\n",
    "\n",
    "\n",
    "# el len coincide con compass\n",
    "print(len(res))\n",
    "\n",
    "# 5 primeras\n",
    "companies = [res[i] for i in range(5)]\n",
    "companies\n",
    "#res[0]"
   ]
  },
  {
   "cell_type": "markdown",
   "metadata": {},
   "source": [
    "### 15. All the companies that have been founded on the first seven days of the month, including the seventh. Sort them by their `acquisition price` in a descending order. Limit the search to 10 documents."
   ]
  },
  {
   "cell_type": "code",
   "execution_count": 105,
   "metadata": {},
   "outputs": [
    {
     "name": "stdout",
     "output_type": "stream",
     "text": [
      "10\n"
     ]
    },
    {
     "data": {
      "text/plain": [
       "['Netscape', 'PayPal', 'Zappos', 'Alibaba', 'Postini']"
      ]
     },
     "execution_count": 105,
     "metadata": {},
     "output_type": "execute_result"
    }
   ],
   "source": [
    "filter_q = { \"founded_day\":{\"$lte\":7}} \n",
    "\n",
    "sort_q = [(\"acquisition.price_amount\",-1)]\n",
    "\n",
    "res = list(db.companies.find(filter_q).sort(sort_q).limit(10))\n",
    "\n",
    "\n",
    "# el len coincide con compass\n",
    "print(len(res))\n",
    "\n",
    "# 5 primeras\n",
    "companies = [res[i]['name'] for i in range(5)]\n",
    "companies\n",
    "#res[0]"
   ]
  },
  {
   "cell_type": "markdown",
   "metadata": {},
   "source": [
    "### 16. All the companies on the 'web' `category` that have more than 4000 employees. Sort them by the amount of employees in ascending order."
   ]
  },
  {
   "cell_type": "code",
   "execution_count": 110,
   "metadata": {},
   "outputs": [
    {
     "name": "stdout",
     "output_type": "stream",
     "text": [
      "9\n"
     ]
    },
    {
     "data": {
      "text/plain": [
       "['Expedia', 'AOL', 'Webkinz', 'Rakuten', 'Los Angeles Times Media Group']"
      ]
     },
     "execution_count": 110,
     "metadata": {},
     "output_type": "execute_result"
    }
   ],
   "source": [
    "filter_q = { \"category_code\":'web',   \"number_of_employees\":{\"$gt\":4000}   }\n",
    "\n",
    "\n",
    "sort_q = [(\"number_of_employees\",1)]\n",
    "\n",
    "res = list(db.companies.find(filter_q).sort(sort_q))\n",
    "\n",
    "\n",
    "# el len coincide con compass\n",
    "print(len(res))\n",
    "\n",
    "# 5 primeras\n",
    "companies = [res[i]['name'] for i in range(5)]\n",
    "companies\n",
    "#res[0]"
   ]
  },
  {
   "cell_type": "markdown",
   "metadata": {},
   "source": [
    "### 17. All the companies whose acquisition amount is more than 10.000.000, and currency is 'EUR'."
   ]
  },
  {
   "cell_type": "code",
   "execution_count": 116,
   "metadata": {},
   "outputs": [
    {
     "name": "stdout",
     "output_type": "stream",
     "text": [
      "7\n"
     ]
    },
    {
     "data": {
      "text/plain": [
       "{'_id': ObjectId('52cdef7c4bab8bd675297f02'),\n",
       " 'name': 'ZYB',\n",
       " 'permalink': 'zyb',\n",
       " 'crunchbase_url': 'http://www.crunchbase.com/company/zyb',\n",
       " 'homepage_url': 'http://zyb.com',\n",
       " 'blog_url': 'http://blog.zyb.com/',\n",
       " 'blog_feed_url': 'http://blog.zyb.com/index.php/feed/',\n",
       " 'twitter_username': None,\n",
       " 'category_code': 'mobile',\n",
       " 'number_of_employees': 25,\n",
       " 'founded_year': None,\n",
       " 'founded_month': None,\n",
       " 'founded_day': None,\n",
       " 'deadpooled_year': None,\n",
       " 'deadpooled_month': None,\n",
       " 'deadpooled_day': None,\n",
       " 'deadpooled_url': None,\n",
       " 'tag_list': 'mobile, social-networking, socialnetwork',\n",
       " 'alias_list': '',\n",
       " 'email_address': 'contact@zyb.com',\n",
       " 'phone_number': '',\n",
       " 'description': 'Mobile Social Networking',\n",
       " 'created_at': 'Wed Aug 22 05:14:51 UTC 2007',\n",
       " 'updated_at': 'Tue Jul 02 03:00:50 UTC 2013',\n",
       " 'overview': '<p>ZYB is a mobile phone utility and social networking site. ZYB started in 2005 as a european service to provide easy back-up services for mobile phones. Using this information, they have built a social networking platform based upon this data set. Given the importance of mobile phones in Europe, ZYB has built in Twitter like location based functions into the service. </p>\\n\\n<p>For more information please see this <a href=\"http://mobilecrunch.com/2006/06/06/mobilecrunch-exclusive-first-look-at-zyb-the-free-data-backup-and-contact-and-calendar-synchronizer-for-your-mobile/\" title=\"MobileCrunch\" rel=\"nofollow\">MobileCrunch</a> article from when ZYB launched.</p>',\n",
       " 'image': {'available_sizes': [[[32, 32],\n",
       "    'assets/images/resized/0000/4450/4450v3-max-150x150.png'],\n",
       "   [[32, 32], 'assets/images/resized/0000/4450/4450v3-max-250x250.png'],\n",
       "   [[32, 32], 'assets/images/resized/0000/4450/4450v3-max-450x450.png']],\n",
       "  'attribution': None},\n",
       " 'products': [{'name': 'ZYB | Phone', 'permalink': 'zyb-phone'},\n",
       "  {'name': 'ZYB | Life', 'permalink': 'zyb-life'}],\n",
       " 'relationships': [{'is_past': None,\n",
       "   'title': 'CEO and Co-Founder',\n",
       "   'person': {'first_name': 'Tommy',\n",
       "    'last_name': 'Ahlers',\n",
       "    'permalink': 'tommy-ahlers'}},\n",
       "  {'is_past': None,\n",
       "   'title': 'CTO',\n",
       "   'person': {'first_name': 'Patrick',\n",
       "    'last_name': 'Verdon',\n",
       "    'permalink': 'patrick-verdon'}},\n",
       "  {'is_past': False,\n",
       "   'title': '',\n",
       "   'person': {'first_name': 'Claus',\n",
       "    'last_name': 'Dahl',\n",
       "    'permalink': 'claus-dahl'}},\n",
       "  {'is_past': False,\n",
       "   'title': 'Product Director',\n",
       "   'person': {'first_name': 'Runar',\n",
       "    'last_name': 'Reistrup',\n",
       "    'permalink': 'runar-reistrup'}},\n",
       "  {'is_past': False,\n",
       "   'title': '',\n",
       "   'person': {'first_name': 'Morten',\n",
       "    'last_name': 'Just',\n",
       "    'permalink': 'morten-just'}}],\n",
       " 'competitions': [{'competitor': {'name': 'Twitter', 'permalink': 'twitter'}},\n",
       "  {'competitor': {'name': 'fring Ltd', 'permalink': 'fring'}},\n",
       "  {'competitor': {'name': 'Loopt', 'permalink': 'loopt'}},\n",
       "  {'competitor': {'name': 'NewACT', 'permalink': 'newact'}},\n",
       "  {'competitor': {'name': 'imity', 'permalink': 'imity'}},\n",
       "  {'competitor': {'name': 'Soocial', 'permalink': 'soocial'}},\n",
       "  {'competitor': {'name': 'fruux', 'permalink': 'fruux'}},\n",
       "  {'competitor': {'name': 'Contails', 'permalink': 'contails'}},\n",
       "  {'competitor': {'name': 'Memotoo', 'permalink': 'memotoo'}}],\n",
       " 'providerships': [{'title': '',\n",
       "   'is_past': True,\n",
       "   'provider': {'name': 'Six Degrees', 'permalink': 'six-degrees'}}],\n",
       " 'total_money_raised': '€3M',\n",
       " 'funding_rounds': [{'id': 389,\n",
       "   'round_code': 'a',\n",
       "   'source_url': '',\n",
       "   'source_description': '',\n",
       "   'raised_amount': 3000000,\n",
       "   'raised_currency_code': 'EUR',\n",
       "   'funded_year': 2006,\n",
       "   'funded_month': 9,\n",
       "   'funded_day': 1,\n",
       "   'investments': [{'company': None,\n",
       "     'financial_org': {'name': 'Nordic Venture Partners',\n",
       "      'permalink': 'nordic-venture-partners'},\n",
       "     'person': None}]},\n",
       "  {'id': 2124,\n",
       "   'round_code': 'angel',\n",
       "   'source_url': '',\n",
       "   'source_description': '',\n",
       "   'raised_amount': None,\n",
       "   'raised_currency_code': None,\n",
       "   'funded_year': 2005,\n",
       "   'funded_month': 1,\n",
       "   'funded_day': 1,\n",
       "   'investments': [{'company': None,\n",
       "     'financial_org': None,\n",
       "     'person': {'first_name': 'Morten',\n",
       "      'last_name': 'Lund',\n",
       "      'permalink': 'morten-lund'}}]}],\n",
       " 'investments': [],\n",
       " 'acquisition': {'price_amount': 31500000,\n",
       "  'price_currency_code': 'EUR',\n",
       "  'term_code': 'cash',\n",
       "  'source_url': 'http://www.techcrunch.com/2008/05/16/danish-mobile-social-network-zyb-acquired-by-vodafone-for-e315-million/',\n",
       "  'source_description': 'Danish Network ZYB Acquired By Vodafone For â‚¬31.5 million',\n",
       "  'acquired_year': 2008,\n",
       "  'acquired_month': 5,\n",
       "  'acquired_day': 16,\n",
       "  'acquiring_company': {'name': 'Vodafone', 'permalink': 'vodafone'}},\n",
       " 'acquisitions': [{'price_amount': None,\n",
       "   'price_currency_code': 'USD',\n",
       "   'term_code': None,\n",
       "   'source_url': 'http://www.techcrunch.com/2008/04/22/confirmed-zyb-bought-imity/',\n",
       "   'source_description': 'Confirmed: Zyb Bought Imity',\n",
       "   'acquired_year': 2008,\n",
       "   'acquired_month': 4,\n",
       "   'acquired_day': 22,\n",
       "   'company': {'name': 'imity', 'permalink': 'imity'}}],\n",
       " 'offices': [{'description': None,\n",
       "   'address1': 'Esromgade 15, 1-1',\n",
       "   'address2': None,\n",
       "   'zip_code': '2200',\n",
       "   'city': 'Copenhagen',\n",
       "   'state_code': None,\n",
       "   'country_code': 'DNK',\n",
       "   'latitude': 55.699123,\n",
       "   'longitude': 12.541484}],\n",
       " 'milestones': [],\n",
       " 'ipo': None,\n",
       " 'video_embeds': [],\n",
       " 'screenshots': [],\n",
       " 'external_links': [],\n",
       " 'partners': []}"
      ]
     },
     "execution_count": 116,
     "metadata": {},
     "output_type": "execute_result"
    }
   ],
   "source": [
    "filter_q = { \"acquisition.price_amount\":{\"$gt\":10000000}, \"acquisition.price_currency_code\":'EUR'} \n",
    "\n",
    "\n",
    "res = list(db.companies.find(filter_q))\n",
    "\n",
    "\n",
    "# el len coincide con compass\n",
    "print(len(res))\n",
    "\n",
    "res[0]"
   ]
  },
  {
   "cell_type": "markdown",
   "metadata": {},
   "source": [
    "### 18. All the companies that have been acquired on the first trimester of the year. Limit the search to 10 companies, and retrieve only their `name` and `acquisition` fields."
   ]
  },
  {
   "cell_type": "code",
   "execution_count": 117,
   "metadata": {},
   "outputs": [
    {
     "name": "stdout",
     "output_type": "stream",
     "text": [
      "10\n"
     ]
    },
    {
     "data": {
      "text/plain": [
       "[{'_id': ObjectId('52cdef7c4bab8bd675297dab'),\n",
       "  'name': 'Kyte',\n",
       "  'acquisition': {'price_amount': None,\n",
       "   'price_currency_code': 'USD',\n",
       "   'term_code': None,\n",
       "   'source_url': 'http://techcrunch.com/2011/01/31/exclusive-kit-digital-acquires-kickapps-kewego-and-kyte-for-77-2-million/',\n",
       "   'source_description': 'KIT digital Acquires KickApps, Kewego AND Kyte For $77.2 Million',\n",
       "   'acquired_year': 2011,\n",
       "   'acquired_month': 1,\n",
       "   'acquired_day': 31,\n",
       "   'acquiring_company': {'name': 'KIT digital', 'permalink': 'kit-digital'}}},\n",
       " {'_id': ObjectId('52cdef7c4bab8bd675297db4'),\n",
       "  'name': 'NetRatings',\n",
       "  'acquisition': {'price_amount': 327000000,\n",
       "   'price_currency_code': 'USD',\n",
       "   'term_code': 'cash',\n",
       "   'source_url': 'http://login.vnuemedia.com/hr/login/login_subscribe.jsp?id=0oqDem1gYIfIclz9i2%2Ffqj5NxCp2AC5DPbVnyT2da8GyV2mXjasabE128n69OrmcAh52%2FGE3pSG%2F%0AEKRYD9vh9EhrJrxukmUzh532fSMTZXL42gwPB80UWVtF1NwJ5UZSM%2BCkLU1mpYBoHFgiH%2Fi0f6Ax%0A9yMIVxt47t%2BHamhEQ0nkOEK24L',\n",
       "   'source_description': 'Nielsen buys rest of NetRatings',\n",
       "   'acquired_year': 2007,\n",
       "   'acquired_month': 2,\n",
       "   'acquired_day': None,\n",
       "   'acquiring_company': {'name': 'Nielsen', 'permalink': 'nielsen'}}},\n",
       " {'_id': ObjectId('52cdef7c4bab8bd675297dbf'),\n",
       "  'name': 'blogTV',\n",
       "  'acquisition': {'price_amount': None,\n",
       "   'price_currency_code': 'USD',\n",
       "   'term_code': None,\n",
       "   'source_url': 'http://techcrunch.com/2013/03/13/younow-buys-blogtv/',\n",
       "   'source_description': 'Live Social Video Network YouNow Acquires Streaming Service BlogTV',\n",
       "   'acquired_year': 2013,\n",
       "   'acquired_month': 3,\n",
       "   'acquired_day': 13,\n",
       "   'acquiring_company': {'name': 'YouNow', 'permalink': 'younow'}}},\n",
       " {'_id': ObjectId('52cdef7c4bab8bd675297dc0'),\n",
       "  'name': 'Livestream',\n",
       "  'acquisition': {'price_amount': None,\n",
       "   'price_currency_code': 'USD',\n",
       "   'term_code': 'cash_and_stock',\n",
       "   'source_url': '',\n",
       "   'source_description': 'company',\n",
       "   'acquired_year': 2008,\n",
       "   'acquired_month': 1,\n",
       "   'acquired_day': 1,\n",
       "   'acquiring_company': {'name': 'Adviqo', 'permalink': 'adviqo'}}},\n",
       " {'_id': ObjectId('52cdef7c4bab8bd675297dda'),\n",
       "  'name': 'iContact',\n",
       "  'acquisition': {'price_amount': 169000000,\n",
       "   'price_currency_code': 'USD',\n",
       "   'term_code': 'cash_and_stock',\n",
       "   'source_url': 'http://techcrunch.com/2012/02/28/vocus-buys-email-marketing-company-icontact-for-169-million/',\n",
       "   'source_description': 'Vocus Buys Email Marketing Company iContact For $169 Million',\n",
       "   'acquired_year': 2012,\n",
       "   'acquired_month': 2,\n",
       "   'acquired_day': 28,\n",
       "   'acquiring_company': {'name': 'Vocus', 'permalink': 'vocus'}}}]"
      ]
     },
     "execution_count": 117,
     "metadata": {},
     "output_type": "execute_result"
    }
   ],
   "source": [
    "filter_q = { \"acquisition.acquired_month\":{\"$lte\":3}} \n",
    "\n",
    "project_q = {\"name\":1, \"acquisition\":1} \n",
    "\n",
    "\n",
    "res = list(db.companies.find(filter_q,project_q).limit(10))\n",
    "\n",
    "\n",
    "# el len coincide con compass\n",
    "print(len(res))\n",
    "\n",
    "# 5 primeras\n",
    "companies = [res[i] for i in range(5)]\n",
    "companies\n",
    "#res[0]"
   ]
  },
  {
   "cell_type": "markdown",
   "metadata": {},
   "source": [
    "# Bonus\n",
    "### 19. All the companies that have been founded between 2000 and 2010, but have not been acquired before 2011."
   ]
  },
  {
   "cell_type": "code",
   "execution_count": 119,
   "metadata": {},
   "outputs": [
    {
     "name": "stdout",
     "output_type": "stream",
     "text": [
      "274\n"
     ]
    },
    {
     "data": {
      "text/plain": [
       "{'_id': ObjectId('52cdef7c4bab8bd675297d8a'),\n",
       " 'name': 'Wetpaint',\n",
       " 'permalink': 'abc2',\n",
       " 'crunchbase_url': 'http://www.crunchbase.com/company/wetpaint',\n",
       " 'homepage_url': 'http://wetpaint-inc.com',\n",
       " 'blog_url': 'http://digitalquarters.net/',\n",
       " 'blog_feed_url': 'http://digitalquarters.net/feed/',\n",
       " 'twitter_username': 'BachelrWetpaint',\n",
       " 'category_code': 'web',\n",
       " 'number_of_employees': 47,\n",
       " 'founded_year': 2005,\n",
       " 'founded_month': 10,\n",
       " 'founded_day': 17,\n",
       " 'deadpooled_year': 1,\n",
       " 'tag_list': 'wiki, seattle, elowitz, media-industry, media-platform, social-distribution-system',\n",
       " 'alias_list': '',\n",
       " 'email_address': 'info@wetpaint.com',\n",
       " 'phone_number': '206.859.6300',\n",
       " 'description': 'Technology Platform Company',\n",
       " 'created_at': datetime.datetime(2007, 5, 25, 6, 51, 27),\n",
       " 'updated_at': 'Sun Dec 08 07:15:44 UTC 2013',\n",
       " 'overview': '<p>Wetpaint is a technology platform company that uses its proprietary state-of-the-art technology and expertise in social media to build and monetize audiences for digital publishers. Wetpaint’s own online property, Wetpaint Entertainment, an entertainment news site that attracts more than 12 million unique visitors monthly and has over 2 million Facebook fans, is a proof point to the company’s success in building and engaging audiences. Media companies can license Wetpaint’s platform which includes a dynamic playbook tailored to their individual needs and comprehensive training. Founded by Internet pioneer Ben Elowitz, and with offices in New York and Seattle, Wetpaint is backed by Accel Partners, the investors behind Facebook.</p>',\n",
       " 'image': {'available_sizes': [[[150, 75],\n",
       "    'assets/images/resized/0000/3604/3604v14-max-150x150.jpg'],\n",
       "   [[250, 125], 'assets/images/resized/0000/3604/3604v14-max-250x250.jpg'],\n",
       "   [[450, 225], 'assets/images/resized/0000/3604/3604v14-max-450x450.jpg']]},\n",
       " 'products': [{'name': 'Wikison Wetpaint', 'permalink': 'wetpaint-wiki'},\n",
       "  {'name': 'Wetpaint Social Distribution System',\n",
       "   'permalink': 'wetpaint-social-distribution-system'}],\n",
       " 'relationships': [{'is_past': False,\n",
       "   'title': 'Co-Founder and VP, Social and Audience Development',\n",
       "   'person': {'first_name': 'Michael',\n",
       "    'last_name': 'Howell',\n",
       "    'permalink': 'michael-howell'}},\n",
       "  {'is_past': False,\n",
       "   'title': 'Co-Founder/CEO/Board of Directors',\n",
       "   'person': {'first_name': 'Ben',\n",
       "    'last_name': 'Elowitz',\n",
       "    'permalink': 'ben-elowitz'}},\n",
       "  {'is_past': False,\n",
       "   'title': 'COO/Board of Directors',\n",
       "   'person': {'first_name': 'Rob',\n",
       "    'last_name': 'Grady',\n",
       "    'permalink': 'rob-grady'}},\n",
       "  {'is_past': False,\n",
       "   'title': 'SVP, Strategy and Business Development',\n",
       "   'person': {'first_name': 'Chris',\n",
       "    'last_name': 'Kollas',\n",
       "    'permalink': 'chris-kollas'}},\n",
       "  {'is_past': False,\n",
       "   'title': 'Board',\n",
       "   'person': {'first_name': 'Theresia',\n",
       "    'last_name': 'Ranzetta',\n",
       "    'permalink': 'theresia-ranzetta'}},\n",
       "  {'is_past': False,\n",
       "   'title': 'Board Member',\n",
       "   'person': {'first_name': 'Gus',\n",
       "    'last_name': 'Tai',\n",
       "    'permalink': 'gus-tai'}},\n",
       "  {'is_past': False,\n",
       "   'title': 'Board',\n",
       "   'person': {'first_name': 'Len',\n",
       "    'last_name': 'Jordan',\n",
       "    'permalink': 'len-jordan'}},\n",
       "  {'is_past': False,\n",
       "   'title': 'Head of Technology and Product',\n",
       "   'person': {'first_name': 'Alex',\n",
       "    'last_name': 'Weinstein',\n",
       "    'permalink': 'alex-weinstein'}},\n",
       "  {'is_past': True,\n",
       "   'title': 'CFO',\n",
       "   'person': {'first_name': 'Bert',\n",
       "    'last_name': 'Hogue',\n",
       "    'permalink': 'bert-hogue'}},\n",
       "  {'is_past': True,\n",
       "   'title': 'CFO/ CRO',\n",
       "   'person': {'first_name': 'Brian',\n",
       "    'last_name': 'Watkins',\n",
       "    'permalink': 'brian-watkins'}},\n",
       "  {'is_past': True,\n",
       "   'title': 'Senior Vice President, Marketing',\n",
       "   'person': {'first_name': 'Rob',\n",
       "    'last_name': 'Grady',\n",
       "    'permalink': 'rob-grady'}},\n",
       "  {'is_past': True,\n",
       "   'title': 'VP, Technology and Product',\n",
       "   'person': {'first_name': 'Werner',\n",
       "    'last_name': 'Koepf',\n",
       "    'permalink': 'werner-koepf'}},\n",
       "  {'is_past': True,\n",
       "   'title': 'VP Marketing',\n",
       "   'person': {'first_name': 'Kevin',\n",
       "    'last_name': 'Flaherty',\n",
       "    'permalink': 'kevin-flaherty'}},\n",
       "  {'is_past': True,\n",
       "   'title': 'VP User Experience',\n",
       "   'person': {'first_name': 'Alex',\n",
       "    'last_name': 'Berg',\n",
       "    'permalink': 'alex-berg'}},\n",
       "  {'is_past': True,\n",
       "   'title': 'VP Engineering',\n",
       "   'person': {'first_name': 'Steve',\n",
       "    'last_name': 'McQuade',\n",
       "    'permalink': 'steve-mcquade'}},\n",
       "  {'is_past': True,\n",
       "   'title': 'Executive Editor',\n",
       "   'person': {'first_name': 'Susan',\n",
       "    'last_name': 'Mulcahy',\n",
       "    'permalink': 'susan-mulcahy'}},\n",
       "  {'is_past': True,\n",
       "   'title': 'VP Business Development',\n",
       "   'person': {'first_name': 'Chris',\n",
       "    'last_name': 'Kollas',\n",
       "    'permalink': 'chris-kollas'}}],\n",
       " 'competitions': [{'competitor': {'name': 'Wikia', 'permalink': 'wikia'}},\n",
       "  {'competitor': {'name': 'JotSpot', 'permalink': 'jotspot'}},\n",
       "  {'competitor': {'name': 'Socialtext', 'permalink': 'socialtext'}},\n",
       "  {'competitor': {'name': 'Ning by Glam Media', 'permalink': 'ning'}},\n",
       "  {'competitor': {'name': 'Soceeo', 'permalink': 'soceeo'}},\n",
       "  {'competitor': {'name': 'Yola', 'permalink': 'yola'}},\n",
       "  {'competitor': {'name': 'SocialGO', 'permalink': 'socialgo'}},\n",
       "  {'competitor': {'name': 'IslamNor', 'permalink': 'islamnor'}}],\n",
       " 'providerships': [],\n",
       " 'total_money_raised': '$39.8M',\n",
       " 'funding_rounds': [{'id': 888,\n",
       "   'round_code': 'a',\n",
       "   'source_url': 'http://seattlepi.nwsource.com/business/246734_wiki02.html',\n",
       "   'source_description': '',\n",
       "   'raised_amount': 5250000,\n",
       "   'raised_currency_code': 'USD',\n",
       "   'funded_year': 2005,\n",
       "   'funded_month': 10,\n",
       "   'funded_day': 1,\n",
       "   'investments': [{'company': None,\n",
       "     'financial_org': {'name': 'Frazier Technology Ventures',\n",
       "      'permalink': 'frazier-technology-ventures'},\n",
       "     'person': None},\n",
       "    {'company': None,\n",
       "     'financial_org': {'name': 'Trinity Ventures',\n",
       "      'permalink': 'trinity-ventures'},\n",
       "     'person': None}]},\n",
       "  {'id': 889,\n",
       "   'round_code': 'b',\n",
       "   'source_url': 'http://pulse2.com/2007/01/09/wiki-builder-website-wetpaint-welcomes-95m-funding/',\n",
       "   'source_description': '',\n",
       "   'raised_amount': 9500000,\n",
       "   'raised_currency_code': 'USD',\n",
       "   'funded_year': 2007,\n",
       "   'funded_month': 1,\n",
       "   'funded_day': 1,\n",
       "   'investments': [{'company': None,\n",
       "     'financial_org': {'name': 'Accel Partners',\n",
       "      'permalink': 'accel-partners'},\n",
       "     'person': None},\n",
       "    {'company': None,\n",
       "     'financial_org': {'name': 'Frazier Technology Ventures',\n",
       "      'permalink': 'frazier-technology-ventures'},\n",
       "     'person': None},\n",
       "    {'company': None,\n",
       "     'financial_org': {'name': 'Trinity Ventures',\n",
       "      'permalink': 'trinity-ventures'},\n",
       "     'person': None}]},\n",
       "  {'id': 2312,\n",
       "   'round_code': 'c',\n",
       "   'source_url': 'http://www.accel.com/news/news_one_up.php?news_id=185',\n",
       "   'source_description': 'Accel',\n",
       "   'raised_amount': 25000000,\n",
       "   'raised_currency_code': 'USD',\n",
       "   'funded_year': 2008,\n",
       "   'funded_month': 5,\n",
       "   'funded_day': 19,\n",
       "   'investments': [{'company': None,\n",
       "     'financial_org': {'name': 'DAG Ventures', 'permalink': 'dag-ventures'},\n",
       "     'person': None},\n",
       "    {'company': None,\n",
       "     'financial_org': {'name': 'Accel Partners',\n",
       "      'permalink': 'accel-partners'},\n",
       "     'person': None},\n",
       "    {'company': None,\n",
       "     'financial_org': {'name': 'Trinity Ventures',\n",
       "      'permalink': 'trinity-ventures'},\n",
       "     'person': None},\n",
       "    {'company': None,\n",
       "     'financial_org': {'name': 'Frazier Technology Ventures',\n",
       "      'permalink': 'frazier-technology-ventures'},\n",
       "     'person': None}]}],\n",
       " 'investments': [],\n",
       " 'acquisition': {'price_amount': 30000000,\n",
       "  'price_currency_code': 'USD',\n",
       "  'term_code': 'cash_and_stock',\n",
       "  'source_url': 'http://allthingsd.com/20131216/viggle-tries-to-bulk-up-its-social-tv-business-by-buying-wetpaint/?mod=atdtweet',\n",
       "  'source_description': ' Viggle Tries to Bulk Up Its Social TV Business by Buying Wetpaint',\n",
       "  'acquired_year': 2013,\n",
       "  'acquired_month': 12,\n",
       "  'acquired_day': 16,\n",
       "  'acquiring_company': {'name': 'Viggle', 'permalink': 'viggle'}},\n",
       " 'acquisitions': [],\n",
       " 'offices': [{'description': '',\n",
       "   'address1': '710 - 2nd Avenue',\n",
       "   'address2': 'Suite 1100',\n",
       "   'zip_code': '98104',\n",
       "   'city': 'Seattle',\n",
       "   'state_code': 'WA',\n",
       "   'country_code': 'USA',\n",
       "   'latitude': 47.603122,\n",
       "   'longitude': -122.333253},\n",
       "  {'description': '',\n",
       "   'address1': '270 Lafayette Street',\n",
       "   'address2': 'Suite 505',\n",
       "   'zip_code': '10012',\n",
       "   'city': 'New York',\n",
       "   'state_code': 'NY',\n",
       "   'country_code': 'USA',\n",
       "   'latitude': 40.7237306,\n",
       "   'longitude': -73.9964312}],\n",
       " 'milestones': [{'id': 5869,\n",
       "   'description': \"Wetpaint named in Lead411's Hottest Seattle Companies list\",\n",
       "   'stoned_year': 2010,\n",
       "   'stoned_month': 6,\n",
       "   'stoned_day': 8,\n",
       "   'source_url': 'http://www.lead411.com/seattle-companies.html',\n",
       "   'source_text': None,\n",
       "   'source_description': 'LEAD411 LAUNCHES \"HOTTEST SEATTLE COMPANIES\" AWARDS',\n",
       "   'stoneable_type': 'Company',\n",
       "   'stoned_value': None,\n",
       "   'stoned_value_type': None,\n",
       "   'stoned_acquirer': None,\n",
       "   'stoneable': {'name': 'Wetpaint', 'permalink': 'wetpaint'}},\n",
       "  {'id': 8702,\n",
       "   'description': 'Site-Builder Wetpaint Makes One For Itself, Using the Demand Media Playbook',\n",
       "   'stoned_year': 2010,\n",
       "   'stoned_month': 9,\n",
       "   'stoned_day': 6,\n",
       "   'source_url': 'http://mediamemo.allthingsd.com/20100906/site-builder-wetpaint-makes-one-for-itself-using-the-demand-media-playbook/',\n",
       "   'source_text': None,\n",
       "   'source_description': 'All Things D',\n",
       "   'stoneable_type': 'Company',\n",
       "   'stoned_value': None,\n",
       "   'stoned_value_type': None,\n",
       "   'stoned_acquirer': None,\n",
       "   'stoneable': {'name': 'Wetpaint', 'permalink': 'wetpaint'}}],\n",
       " 'video_embeds': [],\n",
       " 'screenshots': [{'available_sizes': [[[150, 86],\n",
       "     'assets/images/resized/0016/0929/160929v2-max-150x150.png'],\n",
       "    [[250, 143], 'assets/images/resized/0016/0929/160929v2-max-250x250.png'],\n",
       "    [[450, 258], 'assets/images/resized/0016/0929/160929v2-max-450x450.png']],\n",
       "   'attribution': None}],\n",
       " 'external_links': [{'external_url': 'http://www.geekwire.com/2011/rewind-ben-elowitz-wetpaint-ceo-building-type-media-company',\n",
       "   'title': 'GeekWire interview: Rewind - Ben Elowitz, Wetpaint CEO, on building a new type of media company'},\n",
       "  {'external_url': 'http://techcrunch.com/2012/06/17/search-and-social-how-two-will-soon-become-one/',\n",
       "   'title': 'Guest post by CEO Ben Elowitz in TechCrunch'},\n",
       "  {'external_url': 'http://allthingsd.com/20120516/what-to-expect-when-facebook-is-expecting-five-predictions-for-facebooks-first-public-year/',\n",
       "   'title': 'Guest post by CEO Ben Elowitz in AllThingsD'},\n",
       "  {'external_url': 'http://adage.com/article/digitalnext/facebook-biggest-player-advertising-s-540-billion-world/235708/',\n",
       "   'title': 'Guest post by CEO Ben Elowitz in AdAge'},\n",
       "  {'external_url': 'http://www.businessinsider.com/facebook-captures-14-percent-of-our-online-attention-but-only-4-percent-of-ad-spending-online-2012-6',\n",
       "   'title': 'Guest post by CEO Ben Elowitz in Business Insider'},\n",
       "  {'external_url': 'http://allfacebook.com/wetpaint-media-data_b75963',\n",
       "   'title': 'AllFacebook coverage of Wetpaint'},\n",
       "  {'external_url': 'http://adage.com/article/digital/celeb-site-wetpaint-shows-media-profit-facebook/237828/',\n",
       "   'title': 'Profile of Wetpaint in Ad Age'},\n",
       "  {'external_url': 'http://allthingsd.com/20121018/how-to-boost-your-facebook-traffic-tips-and-tricks-from-wetpaint/',\n",
       "   'title': 'Interview with Wetpaint CEO Ben Elowitz in All Things D'},\n",
       "  {'external_url': 'http://www.xconomy.com/seattle/2012/10/19/wetpaint-starts-licensing-its-facebook-based-media-distribution-tech/',\n",
       "   'title': 'Profile of Wetpaint in Xconomy'}],\n",
       " 'partners': []}"
      ]
     },
     "execution_count": 119,
     "metadata": {},
     "output_type": "execute_result"
    }
   ],
   "source": [
    "filter_q = { \"acquisition.acquired_year\":{\"$gt\":2011}, \"founded_year\":{\"$gte\":2000, \"$lte\":2010}  } \n",
    "\n",
    "\n",
    "res = list(db.companies.find(filter_q))\n",
    "\n",
    "# el len coincide con compass\n",
    "print(len(res))\n",
    "\n",
    "res[0]"
   ]
  },
  {
   "cell_type": "markdown",
   "metadata": {},
   "source": [
    "### 20. All the companies that have been 'deadpooled' after the third year."
   ]
  },
  {
   "cell_type": "code",
   "execution_count": 124,
   "metadata": {},
   "outputs": [
    {
     "data": {
      "text/plain": [
       "<pymongo.command_cursor.CommandCursor at 0x14cce7c0>"
      ]
     },
     "execution_count": 124,
     "metadata": {},
     "output_type": "execute_result"
    }
   ],
   "source": [
    "'''\n",
    "db.companies.aggregate( [\n",
    "   {\n",
    "     \"$addFields\": {\"bonus\": { \"$subtract\": [\"$deadpooled_year\", \"$founded_year\" ] }}\n",
    "   }\n",
    "] )\n",
    "'''"
   ]
  },
  {
   "cell_type": "code",
   "execution_count": null,
   "metadata": {},
   "outputs": [],
   "source": []
  }
 ],
 "metadata": {
  "kernelspec": {
   "display_name": "Python 3",
   "language": "python",
   "name": "python3"
  },
  "language_info": {
   "codemirror_mode": {
    "name": "ipython",
    "version": 3
   },
   "file_extension": ".py",
   "mimetype": "text/x-python",
   "name": "python",
   "nbconvert_exporter": "python",
   "pygments_lexer": "ipython3",
   "version": "3.8.6"
  }
 },
 "nbformat": 4,
 "nbformat_minor": 2
}
