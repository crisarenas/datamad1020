{
 "cells": [
  {
   "cell_type": "markdown",
   "metadata": {},
   "source": [
    "# Advanced Querying Mongo"
   ]
  },
  {
   "cell_type": "markdown",
   "metadata": {},
   "source": [
    "Importing libraries and setting up connection"
   ]
  },
  {
   "cell_type": "code",
   "execution_count": 4,
   "metadata": {},
   "outputs": [
    {
     "data": {
      "text/plain": [
       "Database(MongoClient(host=['localhost:27017'], document_class=dict, tz_aware=False, connect=True), 'companies')"
      ]
     },
     "execution_count": 4,
     "metadata": {},
     "output_type": "execute_result"
    }
   ],
   "source": [
    "from pymongo import MongoClient\n",
    "client = MongoClient()\n",
    "db = client.get_database(\"companies\")\n",
    "db"
   ]
  },
  {
   "cell_type": "markdown",
   "metadata": {},
   "source": [
    "### 1. All the companies whose name match 'Babelgum'. Retrieve only their `name` field."
   ]
  },
  {
   "cell_type": "code",
   "execution_count": 17,
   "metadata": {},
   "outputs": [
    {
     "name": "stdout",
     "output_type": "stream",
     "text": [
      "Number of matches = 1\n"
     ]
    },
    {
     "data": {
      "text/plain": [
       "'Babelgum'"
      ]
     },
     "execution_count": 17,
     "metadata": {},
     "output_type": "execute_result"
    }
   ],
   "source": [
    "# Your Code\n",
    "babelgum = list(db.companies.find({\"name\":\"Babelgum\"}))\n",
    "print(f\"Number of matches = {len(babelgum)}\")\n",
    "babelgum[0]['name']\n"
   ]
  },
  {
   "cell_type": "markdown",
   "metadata": {},
   "source": [
    "### 2. All the companies that have more than 5000 employees. Limit the search to 20 companies and sort them by **number of employees**."
   ]
  },
  {
   "cell_type": "code",
   "execution_count": 38,
   "metadata": {},
   "outputs": [
    {
     "data": {
      "text/plain": [
       "['Nintendo',\n",
       " 'Hexaware Technologies',\n",
       " 'Facebook',\n",
       " 'OpenText',\n",
       " 'CPM Braxis',\n",
       " 'LSI',\n",
       " 'Microchip Technologies',\n",
       " 'Mediaset',\n",
       " 'Mindray Medical International',\n",
       " 'Dentsu',\n",
       " 'Atmel',\n",
       " 'Tata Communications',\n",
       " 'Baidu',\n",
       " 'Acxiom',\n",
       " 'Acxiom',\n",
       " 'SRA International',\n",
       " \"Moody's\",\n",
       " 'ManTech',\n",
       " 'Adobe Systems',\n",
       " 'Broadcom']"
      ]
     },
     "execution_count": 38,
     "metadata": {},
     "output_type": "execute_result"
    }
   ],
   "source": [
    "# Your Code\n",
    "filter_q = {\"number_of_employees\":{\"$gt\":5000}  }   \n",
    "sort_q =   [(\"number_of_employees\",1)]\n",
    "\n",
    "\n",
    "em = list(db.companies.find(filter_q).sort(sort_q).limit(20))\n",
    "\n",
    "# 20 primeras empresas con más de 5000 empleados ordenadas\n",
    "[em[i]['name'] for i in range(len(em))]"
   ]
  },
  {
   "cell_type": "markdown",
   "metadata": {},
   "source": [
    "### 3. All the companies founded between 2000 and 2005, both years included. Retrieve only the `name` and `founded_year` fields."
   ]
  },
  {
   "cell_type": "code",
   "execution_count": 40,
   "metadata": {},
   "outputs": [
    {
     "name": "stdout",
     "output_type": "stream",
     "text": [
      "3734\n"
     ]
    },
    {
     "data": {
      "text/plain": [
       "[{'_id': ObjectId('52cdef7c4bab8bd675297d8a'),\n",
       "  'name': 'Wetpaint',\n",
       "  'founded_year': 2005},\n",
       " {'_id': ObjectId('52cdef7c4bab8bd675297d8c'),\n",
       "  'name': 'Zoho',\n",
       "  'founded_year': 2005},\n",
       " {'_id': ObjectId('52cdef7c4bab8bd675297d8d'),\n",
       "  'name': 'Digg',\n",
       "  'founded_year': 2004},\n",
       " {'_id': ObjectId('52cdef7c4bab8bd675297d8e'),\n",
       "  'name': 'Facebook',\n",
       "  'founded_year': 2004},\n",
       " {'_id': ObjectId('52cdef7c4bab8bd675297d8f'),\n",
       "  'name': 'Omnidrive',\n",
       "  'founded_year': 2005},\n",
       " {'_id': ObjectId('52cdef7c4bab8bd675297d95'),\n",
       "  'name': 'StumbleUpon',\n",
       "  'founded_year': 2002},\n",
       " {'_id': ObjectId('52cdef7c4bab8bd675297d96'),\n",
       "  'name': 'Gizmoz',\n",
       "  'founded_year': 2003},\n",
       " {'_id': ObjectId('52cdef7c4bab8bd675297d9a'),\n",
       "  'name': 'Helio',\n",
       "  'founded_year': 2005},\n",
       " {'_id': ObjectId('52cdef7c4bab8bd675297da1'),\n",
       "  'name': 'Plaxo',\n",
       "  'founded_year': 2002},\n",
       " {'_id': ObjectId('52cdef7c4bab8bd675297da5'),\n",
       "  'name': 'Technorati',\n",
       "  'founded_year': 2002}]"
      ]
     },
     "execution_count": 40,
     "metadata": {},
     "output_type": "execute_result"
    }
   ],
   "source": [
    "filter_q = {\"founded_year\":{\"$gte\":2000, \"$lte\":2005}  \n",
    "           }   \n",
    "\n",
    "project_q = {\"name\":1,\n",
    "             \"founded_year\" :1\n",
    "            }\n",
    "\n",
    "\n",
    "res = list(db.companies.find(filter_q,project_q))\n",
    "# el len coincide con compass\n",
    "print(len(res))\n",
    "# 10 primeras\n",
    "[res[i] for i in range(10)]"
   ]
  },
  {
   "cell_type": "markdown",
   "metadata": {},
   "source": [
    "### 4. All the companies that had a Valuation Amount of more than 100.000.000 and have been founded before 2010. Retrieve only the `name` and `ipo` fields."
   ]
  },
  {
   "cell_type": "code",
   "execution_count": 43,
   "metadata": {},
   "outputs": [
    {
     "name": "stdout",
     "output_type": "stream",
     "text": [
      "42\n"
     ]
    },
    {
     "data": {
      "text/plain": [
       "[{'_id': ObjectId('52cdef7c4bab8bd675297d8e'),\n",
       "  'name': 'Facebook',\n",
       "  'ipo': {'valuation_amount': 104000000000,\n",
       "   'valuation_currency_code': 'USD',\n",
       "   'pub_year': 2012,\n",
       "   'pub_month': 5,\n",
       "   'pub_day': 18,\n",
       "   'stock_symbol': 'NASDAQ:FB'}},\n",
       " {'_id': ObjectId('52cdef7c4bab8bd675297d94'),\n",
       "  'name': 'Twitter',\n",
       "  'ipo': {'valuation_amount': 18100000000,\n",
       "   'valuation_currency_code': 'USD',\n",
       "   'pub_year': 2013,\n",
       "   'pub_month': 11,\n",
       "   'pub_day': 7,\n",
       "   'stock_symbol': 'NYSE:TWTR'}},\n",
       " {'_id': ObjectId('52cdef7c4bab8bd675297de0'),\n",
       "  'name': 'Yelp',\n",
       "  'ipo': {'valuation_amount': 1300000000,\n",
       "   'valuation_currency_code': 'USD',\n",
       "   'pub_year': 2012,\n",
       "   'pub_month': 3,\n",
       "   'pub_day': 2,\n",
       "   'stock_symbol': 'NYSE:YELP'}}]"
      ]
     },
     "execution_count": 43,
     "metadata": {},
     "output_type": "execute_result"
    }
   ],
   "source": [
    "filter_q = { \"ipo.valuation_amount\":{\"$gt\":100000000}, \"founded_year\": {\"$lt\":2010}   } \n",
    "\n",
    "project_q = {\"name\":1, \"ipo\":1}\n",
    "\n",
    "\n",
    "res = list(db.companies.find(filter_q,project_q))\n",
    "\n",
    "# el len coincide con compass\n",
    "print(len(res))\n",
    "\n",
    "# 3 primeras\n",
    "[res[i] for i in range(3)]"
   ]
  },
  {
   "cell_type": "markdown",
   "metadata": {},
   "source": [
    "### 5. All the companies that have less than 1000 employees and have been founded before 2005. Order them by the number of employees and limit the search to 10 companies."
   ]
  },
  {
   "cell_type": "code",
   "execution_count": 56,
   "metadata": {},
   "outputs": [
    {
     "name": "stdout",
     "output_type": "stream",
     "text": [
      "10\n"
     ]
    },
    {
     "data": {
      "text/plain": [
       "['Skype',\n",
       " 'Simpy',\n",
       " 'Eurekster',\n",
       " 'Ticketmaster',\n",
       " 'Fox Interactive Media',\n",
       " 'stylediary',\n",
       " 'Monster',\n",
       " 'EditGrid',\n",
       " 'Compete',\n",
       " 'MindTouch']"
      ]
     },
     "execution_count": 56,
     "metadata": {},
     "output_type": "execute_result"
    }
   ],
   "source": [
    "filter_q = { \"number_of_employees\":{\"$lt\":1000}, \"founded_year\": {\"$lt\":2005}   } \n",
    "\n",
    "\n",
    "\n",
    "sort_q =   [(\"number_of_employees\",1)]\n",
    "\n",
    "res = list(db.companies.find(filter_q).sort(sort_q).limit(10))\n",
    "\n",
    "# el len coincide con compass\n",
    "print(len(res))\n",
    "\n",
    "# Te imprimo los nombres de las empresas para que no te aparezca el tochaco infernal\n",
    "[res[i]['name'] for i in range(10)]\n",
    "#res[0]"
   ]
  },
  {
   "cell_type": "markdown",
   "metadata": {},
   "source": [
    "### 6. All the companies that don't include the `partners` field."
   ]
  },
  {
   "cell_type": "code",
   "execution_count": 63,
   "metadata": {},
   "outputs": [
    {
     "name": "stdout",
     "output_type": "stream",
     "text": [
      "0\n"
     ]
    }
   ],
   "source": [
    "filter_q = { \"partners\": { \"$exists\": False} } \n",
    "\n",
    "\n",
    "\n",
    "res = list(db.companies.find(filter_q))\n",
    "\n",
    "# el len coincide con compass\n",
    "print(len(res))\n",
    "\n",
    "# Existe en todas"
   ]
  },
  {
   "cell_type": "markdown",
   "metadata": {},
   "source": [
    "### 7. All the companies that have a null type of value on the `category_code` field."
   ]
  },
  {
   "cell_type": "code",
   "execution_count": 67,
   "metadata": {},
   "outputs": [
    {
     "name": "stdout",
     "output_type": "stream",
     "text": [
      "2751\n"
     ]
    },
    {
     "data": {
      "text/plain": [
       "['Collective',\n",
       " 'Snimmer',\n",
       " 'KoolIM',\n",
       " 'Level9 Media',\n",
       " 'VidKing',\n",
       " 'Drigg',\n",
       " 'SpaceTime',\n",
       " 'Touch Clarity',\n",
       " 'MMDAYS',\n",
       " 'Inside Group']"
      ]
     },
     "execution_count": 67,
     "metadata": {},
     "output_type": "execute_result"
    }
   ],
   "source": [
    "filter_q = { \"category_code\": { \"$type\": 'null'} } \n",
    "\n",
    "\n",
    "\n",
    "res = list(db.companies.find(filter_q))\n",
    "\n",
    "# el len coincide con compass\n",
    "print(len(res))\n",
    "\n",
    "# 10 primeras\n",
    "[res[i]['name'] for i in range(10)]\n",
    "#res[0]"
   ]
  },
  {
   "cell_type": "markdown",
   "metadata": {},
   "source": [
    "### 8. All the companies that have at least 100 employees but less than 1000. Retrieve only the `name` and `number of employees` fields."
   ]
  },
  {
   "cell_type": "code",
   "execution_count": 69,
   "metadata": {},
   "outputs": [
    {
     "name": "stdout",
     "output_type": "stream",
     "text": [
      "917\n"
     ]
    },
    {
     "data": {
      "text/plain": [
       "[{'_id': ObjectId('52cdef7c4bab8bd675297d8b'),\n",
       "  'name': 'AdventNet',\n",
       "  'number_of_employees': 600},\n",
       " {'_id': ObjectId('52cdef7c4bab8bd675297da7'),\n",
       "  'name': 'AddThis',\n",
       "  'number_of_employees': 120},\n",
       " {'_id': ObjectId('52cdef7c4bab8bd675297da8'),\n",
       "  'name': 'OpenX',\n",
       "  'number_of_employees': 305},\n",
       " {'_id': ObjectId('52cdef7c4bab8bd675297db5'),\n",
       "  'name': 'LifeLock',\n",
       "  'number_of_employees': 644},\n",
       " {'_id': ObjectId('52cdef7c4bab8bd675297dbb'),\n",
       "  'name': 'Jajah',\n",
       "  'number_of_employees': 110},\n",
       " {'_id': ObjectId('52cdef7c4bab8bd675297dc0'),\n",
       "  'name': 'Livestream',\n",
       "  'number_of_employees': 120},\n",
       " {'_id': ObjectId('52cdef7c4bab8bd675297dc1'),\n",
       "  'name': 'Ustream',\n",
       "  'number_of_employees': 250},\n",
       " {'_id': ObjectId('52cdef7c4bab8bd675297dda'),\n",
       "  'name': 'iContact',\n",
       "  'number_of_employees': 300},\n",
       " {'_id': ObjectId('52cdef7c4bab8bd675297de0'),\n",
       "  'name': 'Yelp',\n",
       "  'number_of_employees': 800},\n",
       " {'_id': ObjectId('52cdef7c4bab8bd675297dee'),\n",
       "  'name': 'Dailymotion',\n",
       "  'number_of_employees': 120}]"
      ]
     },
     "execution_count": 69,
     "metadata": {},
     "output_type": "execute_result"
    }
   ],
   "source": [
    "filter_q = {\"number_of_employees\":{\"$gte\":100, \"$lt\":1000}  \n",
    "           }   \n",
    "\n",
    "project_q = {\"name\":1,\n",
    "             \"number_of_employees\" :1\n",
    "            }\n",
    "\n",
    "\n",
    "res = list(db.companies.find(filter_q,project_q))\n",
    "\n",
    "print(len(res))\n",
    "# 10 primeras\n",
    "[res[i] for i in range(10)]"
   ]
  },
  {
   "cell_type": "markdown",
   "metadata": {},
   "source": [
    "### 9. Order all the companies by their IPO price in a descending order."
   ]
  },
  {
   "cell_type": "code",
   "execution_count": 70,
   "metadata": {},
   "outputs": [
    {
     "name": "stdout",
     "output_type": "stream",
     "text": [
      "18801\n"
     ]
    },
    {
     "data": {
      "text/plain": [
       "['GREE',\n",
       " 'Facebook',\n",
       " 'Amazon',\n",
       " 'Twitter',\n",
       " 'Groupon',\n",
       " 'Tencent',\n",
       " 'Western Digital',\n",
       " 'LinkedIn',\n",
       " 'BMC Software',\n",
       " 'Rackspace']"
      ]
     },
     "execution_count": 70,
     "metadata": {},
     "output_type": "execute_result"
    }
   ],
   "source": [
    "filter_q = {} \n",
    "\n",
    "sort_q =   [(\"ipo\",-1)]\n",
    "\n",
    "res = list(db.companies.find(filter_q).sort(sort_q))\n",
    "\n",
    "# el len coincide con compass\n",
    "print(len(res))\n",
    "\n",
    "# Te imprimo las 10 primeras\n",
    "[res[i]['name'] for i in range(10)]\n",
    "#res[0]"
   ]
  },
  {
   "cell_type": "markdown",
   "metadata": {},
   "source": [
    "### 10. Retrieve the 10 companies with more employees, order by the `number of employees`"
   ]
  },
  {
   "cell_type": "code",
   "execution_count": 81,
   "metadata": {},
   "outputs": [
    {
     "name": "stdout",
     "output_type": "stream",
     "text": [
      "18801\n"
     ]
    },
    {
     "data": {
      "text/plain": [
       "['Siemens',\n",
       " 'IBM',\n",
       " 'Toyota',\n",
       " 'PayPal',\n",
       " 'Nippon Telegraph and Telephone Corporation',\n",
       " 'Samsung Electronics',\n",
       " 'Accenture',\n",
       " 'Tata Consultancy Services',\n",
       " 'Flextronics International',\n",
       " 'Safeway']"
      ]
     },
     "execution_count": 81,
     "metadata": {},
     "output_type": "execute_result"
    }
   ],
   "source": [
    "filter_q = {} \n",
    "\n",
    "\n",
    "sort_q =   [(\"number_of_employees\",-1)]\n",
    "\n",
    "\n",
    "res = list(db.companies.find(filter_q).sort(sort_q))\n",
    "\n",
    "# el len coincide con compass\n",
    "print(len(res))\n",
    "\n",
    "\n",
    "companies = [res[i]['name'] for i in range(10)]\n",
    "companies"
   ]
  },
  {
   "cell_type": "markdown",
   "metadata": {},
   "source": [
    "### 11. All the companies founded on the second semester of the year. Limit your search to 1000 companies."
   ]
  },
  {
   "cell_type": "code",
   "execution_count": 87,
   "metadata": {},
   "outputs": [
    {
     "name": "stdout",
     "output_type": "stream",
     "text": [
      "1000\n"
     ]
    },
    {
     "data": {
      "text/plain": [
       "['Wetpaint',\n",
       " 'Zoho',\n",
       " 'Digg',\n",
       " 'Omnidrive',\n",
       " 'eBay',\n",
       " 'Joost',\n",
       " 'Plaxo',\n",
       " 'Powerset',\n",
       " 'Kyte',\n",
       " 'Thoof']"
      ]
     },
     "execution_count": 87,
     "metadata": {},
     "output_type": "execute_result"
    }
   ],
   "source": [
    "# Second semester: de julio a diciembre\n",
    "filter_q = {\"founded_month\":{\"$gte\":7}  } \n",
    "\n",
    "\n",
    "res = list(db.companies.find(filter_q).limit(1000))\n",
    "\n",
    "# el len coincide con compass\n",
    "print(len(res))\n",
    "\n",
    "# Te imprimo las 10 primeras\n",
    "companies = [res[i]['name'] for i in range(10)]\n",
    "companies\n",
    "#res[0]"
   ]
  },
  {
   "cell_type": "markdown",
   "metadata": {},
   "source": [
    "### 12. All the companies founded before 2000 that have an acquisition amount of more than 10.000.00"
   ]
  },
  {
   "cell_type": "code",
   "execution_count": 88,
   "metadata": {},
   "outputs": [
    {
     "name": "stdout",
     "output_type": "stream",
     "text": [
      "205\n"
     ]
    },
    {
     "data": {
      "text/plain": [
       "['Postini',\n",
       " 'SideStep',\n",
       " 'Recipezaar',\n",
       " 'PayPal',\n",
       " 'Snapfish',\n",
       " 'Neopets',\n",
       " 'Sun Microsystems',\n",
       " 'Zappos',\n",
       " 'Alibaba',\n",
       " 'Sabre']"
      ]
     },
     "execution_count": 88,
     "metadata": {},
     "output_type": "execute_result"
    }
   ],
   "source": [
    "filter_q = { \"founded_year\":{\"$lt\":2000}, \"acquisition.price_amount\": {\"$gt\":10000000}   } \n",
    "\n",
    "\n",
    "res = list(db.companies.find(filter_q))\n",
    "\n",
    "# el len coincide con compass\n",
    "print(len(res))\n",
    "\n",
    "# 10 primeras\n",
    "companies = [res[i]['name'] for i in range(10)]\n",
    "companies\n",
    "#res[0]"
   ]
  },
  {
   "cell_type": "markdown",
   "metadata": {},
   "source": [
    "### 13. All the companies that have been acquired after 2010, order by the acquisition amount, and retrieve only their `name` and `acquisition` field."
   ]
  },
  {
   "cell_type": "code",
   "execution_count": 92,
   "metadata": {},
   "outputs": [
    {
     "name": "stdout",
     "output_type": "stream",
     "text": [
      "736\n"
     ]
    },
    {
     "data": {
      "text/plain": [
       "[{'_id': ObjectId('52cdef7c4bab8bd675297d91'),\n",
       "  'name': 'Geni',\n",
       "  'acquisition': {'price_amount': None,\n",
       "   'price_currency_code': 'USD',\n",
       "   'term_code': None,\n",
       "   'source_url': 'http://techcrunch.com/2012/11/28/all-in-the-family-myheritage-buys-former-yammer-stablemate-geni-com-raises-25m/',\n",
       "   'source_description': 'MyHeritage acquires Geni and $25M to build family tree of the whole world',\n",
       "   'acquired_year': 2012,\n",
       "   'acquired_month': 11,\n",
       "   'acquired_day': 28,\n",
       "   'acquiring_company': {'name': 'MyHeritage', 'permalink': 'myheritage'}}},\n",
       " {'_id': ObjectId('52cdef7c4bab8bd675297dab'),\n",
       "  'name': 'Kyte',\n",
       "  'acquisition': {'price_amount': None,\n",
       "   'price_currency_code': 'USD',\n",
       "   'term_code': None,\n",
       "   'source_url': 'http://techcrunch.com/2011/01/31/exclusive-kit-digital-acquires-kickapps-kewego-and-kyte-for-77-2-million/',\n",
       "   'source_description': 'KIT digital Acquires KickApps, Kewego AND Kyte For $77.2 Million',\n",
       "   'acquired_year': 2011,\n",
       "   'acquired_month': 1,\n",
       "   'acquired_day': 31,\n",
       "   'acquiring_company': {'name': 'KIT digital', 'permalink': 'kit-digital'}}},\n",
       " {'_id': ObjectId('52cdef7c4bab8bd675297dbf'),\n",
       "  'name': 'blogTV',\n",
       "  'acquisition': {'price_amount': None,\n",
       "   'price_currency_code': 'USD',\n",
       "   'term_code': None,\n",
       "   'source_url': 'http://techcrunch.com/2013/03/13/younow-buys-blogtv/',\n",
       "   'source_description': 'Live Social Video Network YouNow Acquires Streaming Service BlogTV',\n",
       "   'acquired_year': 2013,\n",
       "   'acquired_month': 3,\n",
       "   'acquired_day': 13,\n",
       "   'acquiring_company': {'name': 'YouNow', 'permalink': 'younow'}}}]"
      ]
     },
     "execution_count": 92,
     "metadata": {},
     "output_type": "execute_result"
    }
   ],
   "source": [
    "filter_q = { \"acquisition.acquired_year\":{\"$gt\":2010}} \n",
    "\n",
    "project_q = {\"name\":1, \"acquisition\":1} \n",
    "\n",
    "sort_q = [(\"acquisition.price_amount\",1)]\n",
    "\n",
    "res = list(db.companies.find(filter_q,project_q).sort(sort_q))\n",
    "\n",
    "\n",
    "# el len coincide con compass\n",
    "print(len(res))\n",
    "\n",
    "# 3 primeras\n",
    "companies = [res[i] for i in range(3)]\n",
    "companies\n",
    "#res[0]"
   ]
  },
  {
   "cell_type": "markdown",
   "metadata": {},
   "source": [
    "### 14. Order the companies by their `founded year`, retrieving only their `name` and `founded year`."
   ]
  },
  {
   "cell_type": "code",
   "execution_count": 96,
   "metadata": {},
   "outputs": [
    {
     "name": "stdout",
     "output_type": "stream",
     "text": [
      "18801\n"
     ]
    },
    {
     "data": {
      "text/plain": [
       "[{'_id': ObjectId('52cdef7c4bab8bd675297fec'),\n",
       "  'name': 'Fixya',\n",
       "  'founded_year': 2013},\n",
       " {'_id': ObjectId('52cdef7c4bab8bd67529801f'),\n",
       "  'name': 'Wamba',\n",
       "  'founded_year': 2013},\n",
       " {'_id': ObjectId('52cdef7c4bab8bd6752982d4'),\n",
       "  'name': 'Advaliant',\n",
       "  'founded_year': 2013},\n",
       " {'_id': ObjectId('52cdef7c4bab8bd67529830a'),\n",
       "  'name': 'Fluc',\n",
       "  'founded_year': 2013},\n",
       " {'_id': ObjectId('52cdef7d4bab8bd675298ea7'),\n",
       "  'name': 'iBazar',\n",
       "  'founded_year': 2013}]"
      ]
     },
     "execution_count": 96,
     "metadata": {},
     "output_type": "execute_result"
    }
   ],
   "source": [
    "filter_q = {} \n",
    "project_q = {\"name\":1, \"founded_year\":1} \n",
    "\n",
    "sort_q = [(\"founded_year\",-1)]\n",
    "\n",
    "res = list(db.companies.find(filter_q,project_q).sort(sort_q))\n",
    "\n",
    "\n",
    "# el len coincide con compass\n",
    "print(len(res))\n",
    "\n",
    "# 5 primeras\n",
    "companies = [res[i] for i in range(5)]\n",
    "companies\n",
    "#res[0]"
   ]
  },
  {
   "cell_type": "markdown",
   "metadata": {},
   "source": [
    "### 15. All the companies that have been founded on the first seven days of the month, including the seventh. Sort them by their `acquisition price` in a descending order. Limit the search to 10 documents."
   ]
  },
  {
   "cell_type": "code",
   "execution_count": null,
   "metadata": {},
   "outputs": [],
   "source": [
    "# Your Code"
   ]
  },
  {
   "cell_type": "markdown",
   "metadata": {},
   "source": [
    "### 16. All the companies on the 'web' `category` that have more than 4000 employees. Sort them by the amount of employees in ascending order."
   ]
  },
  {
   "cell_type": "code",
   "execution_count": null,
   "metadata": {},
   "outputs": [],
   "source": [
    "# Your Code"
   ]
  },
  {
   "cell_type": "markdown",
   "metadata": {},
   "source": [
    "### 17. All the companies whose acquisition amount is more than 10.000.000, and currency is 'EUR'."
   ]
  },
  {
   "cell_type": "code",
   "execution_count": null,
   "metadata": {},
   "outputs": [],
   "source": [
    "# Your Code"
   ]
  },
  {
   "cell_type": "markdown",
   "metadata": {},
   "source": [
    "### 18. All the companies that have been acquired on the first trimester of the year. Limit the search to 10 companies, and retrieve only their `name` and `acquisition` fields."
   ]
  },
  {
   "cell_type": "code",
   "execution_count": null,
   "metadata": {},
   "outputs": [],
   "source": [
    "# Your Code"
   ]
  },
  {
   "cell_type": "markdown",
   "metadata": {},
   "source": [
    "# Bonus\n",
    "### 19. All the companies that have been founded between 2000 and 2010, but have not been acquired before 2011."
   ]
  },
  {
   "cell_type": "code",
   "execution_count": null,
   "metadata": {},
   "outputs": [],
   "source": [
    "# Your Code"
   ]
  },
  {
   "cell_type": "markdown",
   "metadata": {},
   "source": [
    "### 20. All the companies that have been 'deadpooled' after the third year."
   ]
  },
  {
   "cell_type": "code",
   "execution_count": null,
   "metadata": {},
   "outputs": [],
   "source": [
    "# Your Code"
   ]
  }
 ],
 "metadata": {
  "kernelspec": {
   "display_name": "Python 3",
   "language": "python",
   "name": "python3"
  },
  "language_info": {
   "codemirror_mode": {
    "name": "ipython",
    "version": 3
   },
   "file_extension": ".py",
   "mimetype": "text/x-python",
   "name": "python",
   "nbconvert_exporter": "python",
   "pygments_lexer": "ipython3",
   "version": "3.8.6"
  }
 },
 "nbformat": 4,
 "nbformat_minor": 2
}
